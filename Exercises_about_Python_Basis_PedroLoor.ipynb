{
  "nbformat": 4,
  "nbformat_minor": 0,
  "metadata": {
    "colab": {
      "provenance": [],
      "authorship_tag": "ABX9TyOB4bPhDm9lnaDqf/RA/7vQ",
      "include_colab_link": true
    },
    "kernelspec": {
      "name": "python3",
      "display_name": "Python 3"
    },
    "language_info": {
      "name": "python"
    }
  },
  "cells": [
    {
      "cell_type": "markdown",
      "metadata": {
        "id": "view-in-github",
        "colab_type": "text"
      },
      "source": [
        "<a href=\"https://colab.research.google.com/github/pjloor/machinelearning-pedroloor/blob/main/Exercises_about_Python_Basis_PedroLoor.ipynb\" target=\"_parent\"><img src=\"https://colab.research.google.com/assets/colab-badge.svg\" alt=\"Open In Colab\"/></a>"
      ]
    },
    {
      "cell_type": "code",
      "execution_count": 11,
      "metadata": {
        "colab": {
          "base_uri": "https://localhost:8080/"
        },
        "id": "rIJ4vE0bveqv",
        "outputId": "85de2fb9-e95b-405f-b3b5-e475cf89172d"
      },
      "outputs": [
        {
          "output_type": "stream",
          "name": "stdout",
          "text": [
            "Python 3.10.12 (main, Nov 20 2023, 15:14:05) [GCC 11.4.0] on linux\n",
            "Type \"help\", \"copyright\", \"credits\" or \"license\" for more information.\n",
            ">>> \n",
            "KeyboardInterrupt\n",
            ">>> \n",
            "KeyboardInterrupt\n",
            ">>> \n",
            "KeyboardInterrupt\n",
            ">>> ^C\n"
          ]
        }
      ],
      "source": []
    },
    {
      "cell_type": "code",
      "source": [
        "variableX = 4\n",
        "variableY = 2.2\n",
        "\n",
        "print(variableX+variableY)\n",
        "print(variableX*variableY)\n",
        "print(variableX-variableY)\n",
        "print(variableX/variableY)"
      ],
      "metadata": {
        "id": "0zCvZq9pv7sZ",
        "colab": {
          "base_uri": "https://localhost:8080/"
        },
        "outputId": "b0d49aec-b850-4cc6-eb2b-af3ef9b72dbd"
      },
      "execution_count": 9,
      "outputs": [
        {
          "output_type": "stream",
          "name": "stdout",
          "text": [
            "6.2\n",
            "8.8\n",
            "1.7999999999999998\n",
            "1.8181818181818181\n"
          ]
        }
      ]
    },
    {
      "cell_type": "code",
      "source": [
        "variable1= True\n",
        "variable2=False\n",
        "\n",
        "print(variable1 and variable2)\n",
        "print(variable1 or variable2)\n",
        "print( not variable1)\n",
        "print( not variable2)"
      ],
      "metadata": {
        "id": "tDuI0muLwVsx",
        "colab": {
          "base_uri": "https://localhost:8080/"
        },
        "outputId": "f3f7c3bf-27fa-4240-cbe6-dffb418ac019"
      },
      "execution_count": 10,
      "outputs": [
        {
          "output_type": "stream",
          "name": "stdout",
          "text": [
            "False\n",
            "True\n",
            "False\n",
            "True\n"
          ]
        }
      ]
    },
    {
      "cell_type": "code",
      "source": [
        "name=\"Pedro Loor\"\n",
        "print(name)\n",
        " # contar el numero de caracteres\n",
        "print(len(name))\n",
        "# colocar los caracteres con mayúsculas\n",
        "print(name.upper())\n",
        "# colocar los caracteres con minúscula\n",
        "print(name.lower())\n",
        "# colocar los caracteres en mayúscula la primera letra\n",
        "print(name.capitalize())"
      ],
      "metadata": {
        "colab": {
          "base_uri": "https://localhost:8080/"
        },
        "id": "YmRmotM0wzgp",
        "outputId": "b9e96521-9269-4691-e0b4-16cff57acdea"
      },
      "execution_count": 4,
      "outputs": [
        {
          "output_type": "stream",
          "name": "stdout",
          "text": [
            "Pedro Loor\n",
            "10\n",
            "PEDRO LOOR\n",
            "pedro loor\n",
            "Pedro loor\n"
          ]
        }
      ]
    },
    {
      "cell_type": "code",
      "source": [
        "names=\"Rosa, Anahí, María\"\n",
        "print(names)\n",
        "\n",
        "print(names.split(\";\"))"
      ],
      "metadata": {
        "colab": {
          "base_uri": "https://localhost:8080/"
        },
        "id": "3jYubbIixPCO",
        "outputId": "ddd84b57-f1b8-43e9-9472-e57f17832bdd"
      },
      "execution_count": 5,
      "outputs": [
        {
          "output_type": "stream",
          "name": "stdout",
          "text": [
            "Rosa, Anahí, María\n",
            "['Rosa, Anahí, María']\n"
          ]
        }
      ]
    },
    {
      "cell_type": "code",
      "source": [
        "lista=list()\n",
        "lista=[\"cuaderno\", \"esfero\", \"borrador\", \"sacaputas\"]\n",
        "print(lista)\n",
        "# añadir un objeto a la lista\n",
        "lista.append(\"regla\")\n",
        "print(lista)\n",
        "# imprimir el numero 3 de la lista\n",
        "print(lista[3])\n",
        "print('---------')\n",
        "# visualizar uno a uno los objto que existen en el contenedor\n",
        "for i in lista:\n",
        "  print (i)\n",
        "#lista.pop[3]\n",
        "#print(lista)\n",
        "print('-----------')\n",
        "# eliminar el objeto de la posición 3\n",
        "del lista[3]\n",
        "print(lista)\n",
        "\n",
        "# imprimir un rango del contenedor\n",
        "print('-----------')\n",
        "print(lista[1:4])"
      ],
      "metadata": {
        "colab": {
          "base_uri": "https://localhost:8080/"
        },
        "id": "khjywgyOxSos",
        "outputId": "a25689b8-ad7a-4cc7-c1e3-6254b54059c5"
      },
      "execution_count": 6,
      "outputs": [
        {
          "output_type": "stream",
          "name": "stdout",
          "text": [
            "['cuaderno', 'esfero', 'borrador', 'sacaputas']\n",
            "['cuaderno', 'esfero', 'borrador', 'sacaputas', 'regla']\n",
            "sacaputas\n",
            "---------\n",
            "cuaderno\n",
            "esfero\n",
            "borrador\n",
            "sacaputas\n",
            "regla\n",
            "-----------\n",
            "['cuaderno', 'esfero', 'borrador', 'regla']\n",
            "-----------\n",
            "['esfero', 'borrador', 'regla']\n"
          ]
        }
      ]
    },
    {
      "cell_type": "code",
      "source": [
        "milista=list(range(5))\n",
        "print(milista)"
      ],
      "metadata": {
        "colab": {
          "base_uri": "https://localhost:8080/"
        },
        "id": "VBt6QDuFxVe1",
        "outputId": "c1141dad-3725-4e85-e816-c002bd083093"
      },
      "execution_count": 7,
      "outputs": [
        {
          "output_type": "stream",
          "name": "stdout",
          "text": [
            "[0, 1, 2, 3, 4]\n"
          ]
        }
      ]
    },
    {
      "cell_type": "code",
      "source": [
        "d={'name:':'maría', 'age:':20, 'city':'EL CARMEN'}\n",
        "print(d['name:'])\n",
        "print(d['city'])\n",
        "\n",
        "# agregar una caracteristicas al diccionario\n",
        "d['UNI']='ULEAM'\n",
        "print('----------')\n",
        "print(d['UNI'])\n",
        "\n",
        "# IMPRIMIR TODO DEL DICCIONARIO\n",
        "print('----------')\n",
        "for item in d:\n",
        "  print(item)"
      ],
      "metadata": {
        "colab": {
          "base_uri": "https://localhost:8080/"
        },
        "id": "BHQZ0DikxYGF",
        "outputId": "fa7f438b-6105-44d1-c956-f02d41f00013"
      },
      "execution_count": 12,
      "outputs": [
        {
          "output_type": "stream",
          "name": "stdout",
          "text": [
            "maría\n",
            "EL CARMEN\n",
            "----------\n",
            "ULEAM\n",
            "----------\n",
            "name:\n",
            "age:\n",
            "city\n",
            "UNI\n"
          ]
        }
      ]
    }
  ]
}