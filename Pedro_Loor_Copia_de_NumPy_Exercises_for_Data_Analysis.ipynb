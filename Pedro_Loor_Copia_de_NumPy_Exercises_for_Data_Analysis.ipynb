{
  "nbformat": 4,
  "nbformat_minor": 0,
  "metadata": {
    "colab": {
      "provenance": [],
      "include_colab_link": true
    },
    "kernelspec": {
      "name": "python3",
      "display_name": "Python 3"
    },
    "language_info": {
      "name": "python"
    }
  },
  "cells": [
    {
      "cell_type": "markdown",
      "metadata": {
        "id": "view-in-github",
        "colab_type": "text"
      },
      "source": [
        "<a href=\"https://colab.research.google.com/github/pjloor/machinelearning-pedroloor/blob/main/Pedro_Loor_Copia_de_NumPy_Exercises_for_Data_Analysis.ipynb\" target=\"_parent\"><img src=\"https://colab.research.google.com/assets/colab-badge.svg\" alt=\"Open In Colab\"/></a>"
      ]
    },
    {
      "cell_type": "markdown",
      "source": [
        "NumPy Exercises for Data Analysis"
      ],
      "metadata": {
        "id": "hSsi2_-klame"
      }
    },
    {
      "cell_type": "code",
      "source": [
        "# Import numpy as np and see the version\n",
        "import numpy as np\n",
        "# your code here\n",
        "pass\n"
      ],
      "metadata": {
        "id": "kuK4TNepldem"
      },
      "execution_count": null,
      "outputs": []
    },
    {
      "cell_type": "code",
      "source": [
        "# Create a 1D array of numbers from 0 to 9\n",
        "# your code here\n",
        "pass\n",
        "array = list(range(10))\n",
        "print(array)\n"
      ],
      "metadata": {
        "id": "hbYX-oMBlvS-",
        "outputId": "70c259a2-2a19-4ef8-cac9-c8aaa1de8197",
        "colab": {
          "base_uri": "https://localhost:8080/"
        }
      },
      "execution_count": null,
      "outputs": [
        {
          "output_type": "stream",
          "name": "stdout",
          "text": [
            "[0, 1, 2, 3, 4, 5, 6, 7, 8, 9]\n"
          ]
        }
      ]
    },
    {
      "cell_type": "code",
      "source": [
        "# Create random vector of size 10 and replace the maximum value by 0\n",
        "pass\n",
        "random_vector = np.random.rand(10)\n",
        "max_index = np.argmax(random_vector)\n",
        "random_vector[max_index] = 0\n",
        "print(random_vector)"
      ],
      "metadata": {
        "id": "HfsNmdvrwqsO",
        "outputId": "9c95e7f8-30f4-433d-c993-22055f4c7b31",
        "colab": {
          "base_uri": "https://localhost:8080/"
        }
      },
      "execution_count": null,
      "outputs": [
        {
          "output_type": "stream",
          "name": "stdout",
          "text": [
            "[0.61013808 0.85751009 0.15529042 0.44816874 0.00490569 0.89962424\n",
            " 0.93996378 0.91644351 0.01299375 0.18390973]\n"
          ]
        }
      ]
    },
    {
      "cell_type": "code",
      "source": [
        "# Print the number 8 from the array below:\n",
        "arr = np.array([[1,2,3,4,5], [6,7,8,9,10]])\n",
        "pass\n",
        "number_8 = arr[1, 2]\n",
        "\n",
        "print(number_8)"
      ],
      "metadata": {
        "id": "a9T-W3uUoqcE",
        "outputId": "bee17a88-0bff-43b8-d204-d023dded545f",
        "colab": {
          "base_uri": "https://localhost:8080/"
        }
      },
      "execution_count": null,
      "outputs": [
        {
          "output_type": "stream",
          "name": "stdout",
          "text": [
            "8\n"
          ]
        }
      ]
    },
    {
      "cell_type": "code",
      "source": [
        "# Print the numbers [3, 4, 5] from the array below:\n",
        "arr = np.array([1,2,3,4,5,6,7])\n",
        "pass\n",
        "subset = arr[2:5]\n",
        "\n",
        "print(subset)"
      ],
      "metadata": {
        "id": "PqvPijs8o2ub",
        "outputId": "8a9ff8e4-0541-450c-b5c6-670b08b895c9",
        "colab": {
          "base_uri": "https://localhost:8080/"
        }
      },
      "execution_count": null,
      "outputs": [
        {
          "output_type": "stream",
          "name": "stdout",
          "text": [
            "[3 4 5]\n"
          ]
        }
      ]
    },
    {
      "cell_type": "code",
      "source": [
        "# Print the last 4 numbers from the array below:\n",
        "arr = np.array([1,2,3,4,5,6,7])\n",
        "pass\n",
        "last_four = arr[-4:]\n",
        "\n",
        "print(last_four)"
      ],
      "metadata": {
        "id": "H5iUCizHpk0L",
        "outputId": "575b656b-8835-4a81-9a9c-4a38528666ab",
        "colab": {
          "base_uri": "https://localhost:8080/"
        }
      },
      "execution_count": null,
      "outputs": [
        {
          "output_type": "stream",
          "name": "stdout",
          "text": [
            "[4 5 6 7]\n"
          ]
        }
      ]
    },
    {
      "cell_type": "code",
      "source": [
        "# Create a 3×3 numpy array of all True’s\n",
        "# your code here\n",
        "pass\n",
        "true_array = np.ones((3, 3), dtype=bool)\n",
        "\n",
        "print(true_array)"
      ],
      "metadata": {
        "id": "C9nBztXhl9NA",
        "outputId": "d114de66-9f58-4cda-dac4-1a0a28de5834",
        "colab": {
          "base_uri": "https://localhost:8080/"
        }
      },
      "execution_count": null,
      "outputs": [
        {
          "output_type": "stream",
          "name": "stdout",
          "text": [
            "[[ True  True  True]\n",
            " [ True  True  True]\n",
            " [ True  True  True]]\n"
          ]
        }
      ]
    },
    {
      "cell_type": "code",
      "source": [
        "# Extract all odd numbers from arr\n",
        "# your code here\n",
        "pass\n",
        "arr = np.array([1, 2, 3, 4, 5, 6, 7, 8, 9])\n",
        "\n",
        "# Use boolean indexing to extract odd numbers\n",
        "odd_numbers = arr[arr % 2 == 1]\n",
        "\n",
        "print(odd_numbers)"
      ],
      "metadata": {
        "id": "W18lqbBwmIhw",
        "outputId": "79ba51a6-a44c-497d-abe7-e273d824a65b",
        "colab": {
          "base_uri": "https://localhost:8080/"
        }
      },
      "execution_count": null,
      "outputs": [
        {
          "output_type": "stream",
          "name": "stdout",
          "text": [
            "[1 3 5 7 9]\n"
          ]
        }
      ]
    },
    {
      "cell_type": "code",
      "source": [
        "# Create a vector with values ranging from 10 to 49 (★☆☆)\n",
        "pass\n",
        "vector = np.arange(10, 50)\n",
        "\n",
        "print(vector)"
      ],
      "metadata": {
        "id": "hA9iXCAwr55v",
        "outputId": "a2b8cb78-4f81-41b4-f710-d94534693bd3",
        "colab": {
          "base_uri": "https://localhost:8080/"
        }
      },
      "execution_count": null,
      "outputs": [
        {
          "output_type": "stream",
          "name": "stdout",
          "text": [
            "[10 11 12 13 14 15 16 17 18 19 20 21 22 23 24 25 26 27 28 29 30 31 32 33\n",
            " 34 35 36 37 38 39 40 41 42 43 44 45 46 47 48 49]\n"
          ]
        }
      ]
    },
    {
      "cell_type": "code",
      "source": [
        "# Reverse a vector (first element becomes last)\n",
        "pass\n",
        "vector = np.array([1, 2, 3, 4, 5])\n",
        "\n",
        "# Reverse the vector using slicing\n",
        "reversed_vector = vector[::-1]\n",
        "\n",
        "print(reversed_vector)"
      ],
      "metadata": {
        "id": "R-_IjeHyr83q",
        "outputId": "401508f5-d11e-4beb-81e0-8d08504430d8",
        "colab": {
          "base_uri": "https://localhost:8080/"
        }
      },
      "execution_count": null,
      "outputs": [
        {
          "output_type": "stream",
          "name": "stdout",
          "text": [
            "[5 4 3 2 1]\n"
          ]
        }
      ]
    },
    {
      "cell_type": "code",
      "source": [
        "#  Create a 10x10 array with random integer values and find the minimum and maximum values\n",
        "pass\n",
        "min_value = np.min(array)\n",
        "max_value = np.max(array)\n",
        "\n",
        "print(\"Array:\")\n",
        "print(array)\n",
        "print(\"Minimum value:\", min_value)\n",
        "print(\"Maximum value:\", max_value)"
      ],
      "metadata": {
        "id": "rEWwl_weuq3B",
        "outputId": "38231d8b-6de9-4a9f-b73e-a2e151b166e3",
        "colab": {
          "base_uri": "https://localhost:8080/"
        }
      },
      "execution_count": null,
      "outputs": [
        {
          "output_type": "stream",
          "name": "stdout",
          "text": [
            "Array:\n",
            "[0, 1, 2, 3, 4, 5, 6, 7, 8, 9]\n",
            "Minimum value: 0\n",
            "Maximum value: 9\n"
          ]
        }
      ]
    },
    {
      "cell_type": "code",
      "source": [
        "# Create a 3x3x3 array with random values\n",
        "pass\n",
        "array = np.random.rand(3, 3, 3)\n",
        "\n",
        "print(array)"
      ],
      "metadata": {
        "id": "KFy17KsvvSql",
        "outputId": "036d9d79-ece8-4da0-9905-85213a8dfd1c",
        "colab": {
          "base_uri": "https://localhost:8080/"
        }
      },
      "execution_count": null,
      "outputs": [
        {
          "output_type": "stream",
          "name": "stdout",
          "text": [
            "[[[0.16376479 0.20290355 0.86993769]\n",
            "  [0.60862989 0.46180211 0.75607949]\n",
            "  [0.49151639 0.19060108 0.65929471]]\n",
            "\n",
            " [[0.69366733 0.88007169 0.06022132]\n",
            "  [0.59818729 0.11455955 0.25550461]\n",
            "  [0.78339308 0.60461395 0.67402734]]\n",
            "\n",
            " [[0.10690529 0.59163534 0.79142979]\n",
            "  [0.81311195 0.13937369 0.4250239 ]\n",
            "  [0.31839095 0.18756425 0.32164491]]]\n"
          ]
        }
      ]
    },
    {
      "cell_type": "code",
      "source": [
        "# Replace all odd numbers in arr with -1\n",
        "# your code here\n",
        "pass\n",
        "arr = np.array([1, 2, 3, 4, 5, 6, 7, 8, 9])\n",
        "\n",
        "# Create a boolean mask for odd numbers\n",
        "mask = arr % 2 == 1\n",
        "\n",
        "# Replace odd numbers with -1 using the mask\n",
        "arr[mask] = -1\n",
        "\n",
        "print(arr)"
      ],
      "metadata": {
        "id": "X7ol3alqmbNa",
        "outputId": "8f44641f-6a77-437a-e823-71f66370f7a3",
        "colab": {
          "base_uri": "https://localhost:8080/"
        }
      },
      "execution_count": null,
      "outputs": [
        {
          "output_type": "stream",
          "name": "stdout",
          "text": [
            "[-1  2 -1  4 -1  6 -1  8 -1]\n"
          ]
        }
      ]
    },
    {
      "cell_type": "code",
      "source": [
        "# Create an array of type float\n",
        "pass\n",
        "float_array = np.array([1.0, 2.5, 3.7, 4.2], dtype=float)\n",
        "\n",
        "print(float_array)"
      ],
      "metadata": {
        "id": "GwdXYn9HqYTL",
        "outputId": "c39d0043-ac06-4b89-d7f9-8bcbf186f9ba",
        "colab": {
          "base_uri": "https://localhost:8080/"
        }
      },
      "execution_count": null,
      "outputs": [
        {
          "output_type": "stream",
          "name": "stdout",
          "text": [
            "[1.  2.5 3.7 4.2]\n"
          ]
        }
      ]
    },
    {
      "cell_type": "code",
      "source": [
        "# Convert a 1D array to a 2D array with 2 rows\n",
        "# your code here\n",
        "pass\n",
        "original_array = np.array([1, 2, 3, 4, 5, 6])\n",
        "\n",
        "# Reshape the array to have 2 rows\n",
        "new_array = original_array.reshape(2, -1)\n",
        "\n",
        "print(new_array)"
      ],
      "metadata": {
        "id": "LvcL1lUYoPjN",
        "outputId": "23276851-f8a1-466e-cedf-1b4f4cb93025",
        "colab": {
          "base_uri": "https://localhost:8080/"
        }
      },
      "execution_count": null,
      "outputs": [
        {
          "output_type": "stream",
          "name": "stdout",
          "text": [
            "[[1 2 3]\n",
            " [4 5 6]]\n"
          ]
        }
      ]
    },
    {
      "cell_type": "code",
      "source": [
        "# How to find common values between two arrays?\n",
        "\n",
        "Z1 = np.random.randint(0,10,10)\n",
        "Z2 = np.random.randint(0,10,10)\n",
        "pass\n",
        "common_values = np.intersect1d(Z1, Z2)\n",
        "\n",
        "print(\"Z1:\", Z1)\n",
        "print(\"Z2:\", Z2)\n",
        "print(\"Common Values:\", common_values)"
      ],
      "metadata": {
        "id": "VbzMDKQvv0DX",
        "outputId": "0e740143-01ce-4a25-cd71-83fe33060043",
        "colab": {
          "base_uri": "https://localhost:8080/"
        }
      },
      "execution_count": null,
      "outputs": [
        {
          "output_type": "stream",
          "name": "stdout",
          "text": [
            "Z1: [7 8 2 0 1 4 4 0 9 5]\n",
            "Z2: [2 5 4 1 4 9 0 2 2 5]\n",
            "Common Values: [0 1 2 4 5 9]\n"
          ]
        }
      ]
    },
    {
      "cell_type": "code",
      "source": [
        "#  Consider two random array A and B, check if they are equal\n",
        "\n",
        "\n",
        "A = np.random.randint(0,2,5)\n",
        "B = np.random.randint(0,2,5)\n",
        "\n",
        "pass\n",
        "are_equal = np.array_equal(A, B)\n",
        "\n",
        "print(\"Array A:\", A)\n",
        "print(\"Array B:\", B)\n",
        "\n",
        "if are_equal:\n",
        "    print(\"Arrays A and B are equal.\")\n",
        "else:\n",
        "    print(\"Arrays A and B are not equal.\")"
      ],
      "metadata": {
        "id": "RWWspnDAwWGV",
        "outputId": "53f3c88f-afba-4ad6-e1f0-60267191a711",
        "colab": {
          "base_uri": "https://localhost:8080/"
        }
      },
      "execution_count": null,
      "outputs": [
        {
          "output_type": "stream",
          "name": "stdout",
          "text": [
            "Array A: [0 1 0 1 0]\n",
            "Array B: [0 0 1 0 1]\n",
            "Arrays A and B are not equal.\n"
          ]
        }
      ]
    },
    {
      "cell_type": "code",
      "source": [
        "# Stack arrays a and b vertically\n",
        "# your code here\n",
        "pass\n",
        "# Create two example arrays a and b\n",
        "a = np.array([1, 2, 3])\n",
        "b = np.array([4, 5, 6])\n",
        "\n",
        "# Stack arrays a and b vertically\n",
        "result = np.vstack((a, b))\n",
        "\n",
        "print(result)"
      ],
      "metadata": {
        "id": "SW3KvPXhoeie",
        "outputId": "29d7d1ef-7999-4e3e-9fd0-f32502fb8e56",
        "colab": {
          "base_uri": "https://localhost:8080/"
        }
      },
      "execution_count": null,
      "outputs": [
        {
          "output_type": "stream",
          "name": "stdout",
          "text": [
            "[[1 2 3]\n",
            " [4 5 6]]\n"
          ]
        }
      ]
    },
    {
      "cell_type": "code",
      "source": [
        "# Stack the arrays a and b horizontally.\n",
        "# your code here\n",
        "pass\n",
        "# Create two example arrays a and b\n",
        "a = np.array([1, 2, 3])\n",
        "b = np.array([4, 5, 6])\n",
        "\n",
        "# Stack arrays a and b horizontally\n",
        "result = np.hstack((a, b))\n",
        "\n",
        "print(result)"
      ],
      "metadata": {
        "id": "6wVOpIT9omwe",
        "outputId": "59f0f9db-209d-470f-f7b0-a50b47c9c05c",
        "colab": {
          "base_uri": "https://localhost:8080/"
        }
      },
      "execution_count": null,
      "outputs": [
        {
          "output_type": "stream",
          "name": "stdout",
          "text": [
            "[1 2 3 4 5 6]\n"
          ]
        }
      ]
    },
    {
      "cell_type": "code",
      "source": [
        "# Get all items between 5 and 10 from array tmp.\n",
        "# your code here\n",
        "import numpy as np\n",
        "tmp = np.arange(15)\n",
        "# pass\n",
        "subset = tmp[5:11]\n",
        "\n",
        "print(subset)"
      ],
      "metadata": {
        "id": "L_7vMkGOo0gX",
        "outputId": "fe5a5b6a-9a7d-4f89-a292-08f92210f1e8",
        "colab": {
          "base_uri": "https://localhost:8080/"
        }
      },
      "execution_count": null,
      "outputs": [
        {
          "output_type": "stream",
          "name": "stdout",
          "text": [
            "[ 5  6  7  8  9 10]\n"
          ]
        }
      ]
    },
    {
      "cell_type": "code",
      "source": [
        "# How to make a python function that handles scalars to work on numpy arrays?\n",
        "# Hint\n",
        "# Desired Output:\n",
        "#a = np.array([5, 7, 9, 8, 6, 4, 5])\n",
        "#b = np.array([6, 3, 4, 8, 9, 7, 1])\n",
        "#pair_max(a, b)\n",
        "##> array([ 6.,  7.,  9.,  8.,  9.,  7.,  5.])\n",
        "\n",
        "\n",
        "# your code here\n",
        "import numpy as np\n",
        "\n",
        "# def maxx(x, y):\n",
        "#     \"\"\"Get the maximum of two items\"\"\"\n",
        "#     if x >= y:\n",
        "#         return x\n",
        "#     else:\n",
        "#         return y\n",
        "\n",
        "# maxx(1, 5)\n",
        "\n",
        "def pair_max(x, y):\n",
        "    \"\"\"Get the maximum of two items\"\"\"\n",
        "    return np.maximum(x, y)\n",
        "\n",
        "# Example scalars\n",
        "scalar_x = 5\n",
        "scalar_y = 6\n",
        "\n",
        "# Example arrays\n",
        "array_a = np.array([5, 7, 9, 8, 6, 4, 5])\n",
        "array_b = np.array([6, 3, 4, 8, 9, 7, 1])\n",
        "\n",
        "# Apply the pair_max function to scalars\n",
        "result_scalar = pair_max(scalar_x, scalar_y)\n",
        "print(\"Scalar result:\", result_scalar)\n",
        "\n",
        "# Apply the pair_max function to arrays (broadcasting)\n",
        "result_array = pair_max(array_a, array_b)\n",
        "print(\"Array result:\")\n",
        "print(result_array)\n"
      ],
      "metadata": {
        "colab": {
          "base_uri": "https://localhost:8080/"
        },
        "id": "FVZz6ZY0p9ya",
        "outputId": "350e5187-0332-4823-c60c-d158695d884c"
      },
      "execution_count": null,
      "outputs": [
        {
          "output_type": "stream",
          "name": "stdout",
          "text": [
            "Scalar result: 6\n",
            "Array result:\n",
            "[6 7 9 8 9 7 5]\n"
          ]
        }
      ]
    },
    {
      "cell_type": "code",
      "source": [
        "# Swap columns 1 and 2 in the array arr.\n",
        "# Hint\n",
        "# Desired Output:\n",
        "# [[0 2 1]\n",
        "#  [3 5 4]\n",
        "#  [6 8 7]]\n",
        "\n",
        "\n",
        "arr = np.arange(9).reshape(3,3)\n",
        "print(arr)\n",
        "# your code here\n",
        "pass\n",
        "\n",
        "# Swap columns 1 and 2\n",
        "arr[:, [1, 2]] = arr[:, [2, 1]]\n",
        "\n",
        "print(arr)\n"
      ],
      "metadata": {
        "colab": {
          "base_uri": "https://localhost:8080/"
        },
        "outputId": "ed610132-ea11-4cfa-c529-c9d302a040b7",
        "id": "8vIzM5e8ql6i"
      },
      "execution_count": null,
      "outputs": [
        {
          "output_type": "stream",
          "name": "stdout",
          "text": [
            "[[0 1 2]\n",
            " [3 4 5]\n",
            " [6 7 8]]\n",
            "[[0 2 1]\n",
            " [3 5 4]\n",
            " [6 8 7]]\n"
          ]
        }
      ]
    },
    {
      "cell_type": "code",
      "source": [
        "# Create a 2D array of shape 5x3 to contain random decimal numbers between 5 and 10.\n",
        "# Hint\n",
        "# The desired Output should be like the following one:\n",
        "#  [[ 8.50061025  9.10531502  6.85867783]\n",
        "#   [ 9.76262069  9.87717411  7.13466701]\n",
        "#   [ 7.48966403  8.33409158  6.16808631]\n",
        "#   [ 7.75010551  9.94535696  5.27373226]\n",
        "#   [ 8.0850361   5.56165518  7.31244004]]\n",
        "\n",
        "# Create a 5x3 array with random decimal numbers between 5 and 10\n",
        "random_array = np.random.uniform(5, 10, (5, 3))\n",
        "\n",
        "print(random_array)"
      ],
      "metadata": {
        "id": "FOXX5b17rY7E",
        "outputId": "0295fe35-2756-4ad8-975f-a0585e055d09",
        "colab": {
          "base_uri": "https://localhost:8080/"
        }
      },
      "execution_count": null,
      "outputs": [
        {
          "output_type": "stream",
          "name": "stdout",
          "text": [
            "[[5.03943024 9.2486458  7.38461606]\n",
            " [7.60669731 6.36804367 8.74403935]\n",
            " [7.77609651 6.58277792 7.22593589]\n",
            " [8.81042335 5.70912998 8.22931604]\n",
            " [7.21255422 6.17471484 5.47789722]]\n"
          ]
        }
      ]
    }
  ]
}