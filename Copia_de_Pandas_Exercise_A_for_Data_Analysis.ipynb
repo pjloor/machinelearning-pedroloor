{
  "nbformat": 4,
  "nbformat_minor": 0,
  "metadata": {
    "colab": {
      "provenance": [],
      "include_colab_link": true
    },
    "kernelspec": {
      "name": "python3",
      "display_name": "Python 3"
    },
    "language_info": {
      "name": "python"
    }
  },
  "cells": [
    {
      "cell_type": "markdown",
      "metadata": {
        "id": "view-in-github",
        "colab_type": "text"
      },
      "source": [
        "<a href=\"https://colab.research.google.com/github/pjloor/machinelearning-pedroloor/blob/main/Copia_de_Pandas_Exercise_A_for_Data_Analysis.ipynb\" target=\"_parent\"><img src=\"https://colab.research.google.com/assets/colab-badge.svg\" alt=\"Open In Colab\"/></a>"
      ]
    },
    {
      "cell_type": "markdown",
      "source": [
        "\n",
        "# 1. Import pandas as pd and load the dataset"
      ],
      "metadata": {
        "id": "7VeDvua4WVnh"
      }
    },
    {
      "cell_type": "code",
      "source": [
        "# Use this line to load the dataset.\n",
        "import pandas as pd\n",
        "url='https://raw.githubusercontent.com/Sinchiguano/chicagoUniversity/main/cta_Ridership.csv'\n",
        "# your code here\n",
        "df=pd.read_csv(url)\n",
        "pass\n"
      ],
      "metadata": {
        "id": "NDBPFlkmWYC1"
      },
      "execution_count": null,
      "outputs": []
    },
    {
      "cell_type": "markdown",
      "source": [
        "Basic Exploration\n",
        "\n",
        "Let's first take a quick look at what this data looks like."
      ],
      "metadata": {
        "id": "dx-btLzeWvsJ"
      }
    },
    {
      "cell_type": "code",
      "source": [
        "# for basic exploration, we suggest to use shape, head(), tail(), dtypes, type() modules\n",
        "# your code here\n",
        "pass\n",
        "df.shape"
      ],
      "metadata": {
        "id": "nYsXss7zWwqB",
        "colab": {
          "base_uri": "https://localhost:8080/"
        },
        "outputId": "91b9ebb3-d56d-46f5-eb27-eba7a4498d53"
      },
      "execution_count": null,
      "outputs": [
        {
          "output_type": "execute_result",
          "data": {
            "text/plain": [
              "(1145586, 5)"
            ]
          },
          "metadata": {},
          "execution_count": 50
        }
      ]
    },
    {
      "cell_type": "code",
      "source": [
        "df.head(5)\n"
      ],
      "metadata": {
        "colab": {
          "base_uri": "https://localhost:8080/",
          "height": 206
        },
        "id": "asKRzrUUHAZr",
        "outputId": "256defca-576f-49f1-f1e8-80cd4dbccc53"
      },
      "execution_count": null,
      "outputs": [
        {
          "output_type": "execute_result",
          "data": {
            "text/plain": [
              "   station_id       stationname        date daytype  rides\n",
              "0       41280    Jefferson Park  12/22/2017       W   6104\n",
              "1       41000  Cermak-Chinatown  12/18/2017       W   3636\n",
              "2       40280      Central-Lake  12/02/2017       A   1270\n",
              "3       40140   Dempster-Skokie  12/19/2017       W   1759\n",
              "4       40690          Dempster  12/03/2017       U    499"
            ],
            "text/html": [
              "\n",
              "  <div id=\"df-479dcceb-89fa-4da2-bcc1-61123e79edca\" class=\"colab-df-container\">\n",
              "    <div>\n",
              "<style scoped>\n",
              "    .dataframe tbody tr th:only-of-type {\n",
              "        vertical-align: middle;\n",
              "    }\n",
              "\n",
              "    .dataframe tbody tr th {\n",
              "        vertical-align: top;\n",
              "    }\n",
              "\n",
              "    .dataframe thead th {\n",
              "        text-align: right;\n",
              "    }\n",
              "</style>\n",
              "<table border=\"1\" class=\"dataframe\">\n",
              "  <thead>\n",
              "    <tr style=\"text-align: right;\">\n",
              "      <th></th>\n",
              "      <th>station_id</th>\n",
              "      <th>stationname</th>\n",
              "      <th>date</th>\n",
              "      <th>daytype</th>\n",
              "      <th>rides</th>\n",
              "    </tr>\n",
              "  </thead>\n",
              "  <tbody>\n",
              "    <tr>\n",
              "      <th>0</th>\n",
              "      <td>41280</td>\n",
              "      <td>Jefferson Park</td>\n",
              "      <td>12/22/2017</td>\n",
              "      <td>W</td>\n",
              "      <td>6104</td>\n",
              "    </tr>\n",
              "    <tr>\n",
              "      <th>1</th>\n",
              "      <td>41000</td>\n",
              "      <td>Cermak-Chinatown</td>\n",
              "      <td>12/18/2017</td>\n",
              "      <td>W</td>\n",
              "      <td>3636</td>\n",
              "    </tr>\n",
              "    <tr>\n",
              "      <th>2</th>\n",
              "      <td>40280</td>\n",
              "      <td>Central-Lake</td>\n",
              "      <td>12/02/2017</td>\n",
              "      <td>A</td>\n",
              "      <td>1270</td>\n",
              "    </tr>\n",
              "    <tr>\n",
              "      <th>3</th>\n",
              "      <td>40140</td>\n",
              "      <td>Dempster-Skokie</td>\n",
              "      <td>12/19/2017</td>\n",
              "      <td>W</td>\n",
              "      <td>1759</td>\n",
              "    </tr>\n",
              "    <tr>\n",
              "      <th>4</th>\n",
              "      <td>40690</td>\n",
              "      <td>Dempster</td>\n",
              "      <td>12/03/2017</td>\n",
              "      <td>U</td>\n",
              "      <td>499</td>\n",
              "    </tr>\n",
              "  </tbody>\n",
              "</table>\n",
              "</div>\n",
              "    <div class=\"colab-df-buttons\">\n",
              "\n",
              "  <div class=\"colab-df-container\">\n",
              "    <button class=\"colab-df-convert\" onclick=\"convertToInteractive('df-479dcceb-89fa-4da2-bcc1-61123e79edca')\"\n",
              "            title=\"Convert this dataframe to an interactive table.\"\n",
              "            style=\"display:none;\">\n",
              "\n",
              "  <svg xmlns=\"http://www.w3.org/2000/svg\" height=\"24px\" viewBox=\"0 -960 960 960\">\n",
              "    <path d=\"M120-120v-720h720v720H120Zm60-500h600v-160H180v160Zm220 220h160v-160H400v160Zm0 220h160v-160H400v160ZM180-400h160v-160H180v160Zm440 0h160v-160H620v160ZM180-180h160v-160H180v160Zm440 0h160v-160H620v160Z\"/>\n",
              "  </svg>\n",
              "    </button>\n",
              "\n",
              "  <style>\n",
              "    .colab-df-container {\n",
              "      display:flex;\n",
              "      gap: 12px;\n",
              "    }\n",
              "\n",
              "    .colab-df-convert {\n",
              "      background-color: #E8F0FE;\n",
              "      border: none;\n",
              "      border-radius: 50%;\n",
              "      cursor: pointer;\n",
              "      display: none;\n",
              "      fill: #1967D2;\n",
              "      height: 32px;\n",
              "      padding: 0 0 0 0;\n",
              "      width: 32px;\n",
              "    }\n",
              "\n",
              "    .colab-df-convert:hover {\n",
              "      background-color: #E2EBFA;\n",
              "      box-shadow: 0px 1px 2px rgba(60, 64, 67, 0.3), 0px 1px 3px 1px rgba(60, 64, 67, 0.15);\n",
              "      fill: #174EA6;\n",
              "    }\n",
              "\n",
              "    .colab-df-buttons div {\n",
              "      margin-bottom: 4px;\n",
              "    }\n",
              "\n",
              "    [theme=dark] .colab-df-convert {\n",
              "      background-color: #3B4455;\n",
              "      fill: #D2E3FC;\n",
              "    }\n",
              "\n",
              "    [theme=dark] .colab-df-convert:hover {\n",
              "      background-color: #434B5C;\n",
              "      box-shadow: 0px 1px 3px 1px rgba(0, 0, 0, 0.15);\n",
              "      filter: drop-shadow(0px 1px 2px rgba(0, 0, 0, 0.3));\n",
              "      fill: #FFFFFF;\n",
              "    }\n",
              "  </style>\n",
              "\n",
              "    <script>\n",
              "      const buttonEl =\n",
              "        document.querySelector('#df-479dcceb-89fa-4da2-bcc1-61123e79edca button.colab-df-convert');\n",
              "      buttonEl.style.display =\n",
              "        google.colab.kernel.accessAllowed ? 'block' : 'none';\n",
              "\n",
              "      async function convertToInteractive(key) {\n",
              "        const element = document.querySelector('#df-479dcceb-89fa-4da2-bcc1-61123e79edca');\n",
              "        const dataTable =\n",
              "          await google.colab.kernel.invokeFunction('convertToInteractive',\n",
              "                                                    [key], {});\n",
              "        if (!dataTable) return;\n",
              "\n",
              "        const docLinkHtml = 'Like what you see? Visit the ' +\n",
              "          '<a target=\"_blank\" href=https://colab.research.google.com/notebooks/data_table.ipynb>data table notebook</a>'\n",
              "          + ' to learn more about interactive tables.';\n",
              "        element.innerHTML = '';\n",
              "        dataTable['output_type'] = 'display_data';\n",
              "        await google.colab.output.renderOutput(dataTable, element);\n",
              "        const docLink = document.createElement('div');\n",
              "        docLink.innerHTML = docLinkHtml;\n",
              "        element.appendChild(docLink);\n",
              "      }\n",
              "    </script>\n",
              "  </div>\n",
              "\n",
              "\n",
              "<div id=\"df-ffcfadd6-45cc-433f-b24a-55198206beb7\">\n",
              "  <button class=\"colab-df-quickchart\" onclick=\"quickchart('df-ffcfadd6-45cc-433f-b24a-55198206beb7')\"\n",
              "            title=\"Suggest charts\"\n",
              "            style=\"display:none;\">\n",
              "\n",
              "<svg xmlns=\"http://www.w3.org/2000/svg\" height=\"24px\"viewBox=\"0 0 24 24\"\n",
              "     width=\"24px\">\n",
              "    <g>\n",
              "        <path d=\"M19 3H5c-1.1 0-2 .9-2 2v14c0 1.1.9 2 2 2h14c1.1 0 2-.9 2-2V5c0-1.1-.9-2-2-2zM9 17H7v-7h2v7zm4 0h-2V7h2v10zm4 0h-2v-4h2v4z\"/>\n",
              "    </g>\n",
              "</svg>\n",
              "  </button>\n",
              "\n",
              "<style>\n",
              "  .colab-df-quickchart {\n",
              "      --bg-color: #E8F0FE;\n",
              "      --fill-color: #1967D2;\n",
              "      --hover-bg-color: #E2EBFA;\n",
              "      --hover-fill-color: #174EA6;\n",
              "      --disabled-fill-color: #AAA;\n",
              "      --disabled-bg-color: #DDD;\n",
              "  }\n",
              "\n",
              "  [theme=dark] .colab-df-quickchart {\n",
              "      --bg-color: #3B4455;\n",
              "      --fill-color: #D2E3FC;\n",
              "      --hover-bg-color: #434B5C;\n",
              "      --hover-fill-color: #FFFFFF;\n",
              "      --disabled-bg-color: #3B4455;\n",
              "      --disabled-fill-color: #666;\n",
              "  }\n",
              "\n",
              "  .colab-df-quickchart {\n",
              "    background-color: var(--bg-color);\n",
              "    border: none;\n",
              "    border-radius: 50%;\n",
              "    cursor: pointer;\n",
              "    display: none;\n",
              "    fill: var(--fill-color);\n",
              "    height: 32px;\n",
              "    padding: 0;\n",
              "    width: 32px;\n",
              "  }\n",
              "\n",
              "  .colab-df-quickchart:hover {\n",
              "    background-color: var(--hover-bg-color);\n",
              "    box-shadow: 0 1px 2px rgba(60, 64, 67, 0.3), 0 1px 3px 1px rgba(60, 64, 67, 0.15);\n",
              "    fill: var(--button-hover-fill-color);\n",
              "  }\n",
              "\n",
              "  .colab-df-quickchart-complete:disabled,\n",
              "  .colab-df-quickchart-complete:disabled:hover {\n",
              "    background-color: var(--disabled-bg-color);\n",
              "    fill: var(--disabled-fill-color);\n",
              "    box-shadow: none;\n",
              "  }\n",
              "\n",
              "  .colab-df-spinner {\n",
              "    border: 2px solid var(--fill-color);\n",
              "    border-color: transparent;\n",
              "    border-bottom-color: var(--fill-color);\n",
              "    animation:\n",
              "      spin 1s steps(1) infinite;\n",
              "  }\n",
              "\n",
              "  @keyframes spin {\n",
              "    0% {\n",
              "      border-color: transparent;\n",
              "      border-bottom-color: var(--fill-color);\n",
              "      border-left-color: var(--fill-color);\n",
              "    }\n",
              "    20% {\n",
              "      border-color: transparent;\n",
              "      border-left-color: var(--fill-color);\n",
              "      border-top-color: var(--fill-color);\n",
              "    }\n",
              "    30% {\n",
              "      border-color: transparent;\n",
              "      border-left-color: var(--fill-color);\n",
              "      border-top-color: var(--fill-color);\n",
              "      border-right-color: var(--fill-color);\n",
              "    }\n",
              "    40% {\n",
              "      border-color: transparent;\n",
              "      border-right-color: var(--fill-color);\n",
              "      border-top-color: var(--fill-color);\n",
              "    }\n",
              "    60% {\n",
              "      border-color: transparent;\n",
              "      border-right-color: var(--fill-color);\n",
              "    }\n",
              "    80% {\n",
              "      border-color: transparent;\n",
              "      border-right-color: var(--fill-color);\n",
              "      border-bottom-color: var(--fill-color);\n",
              "    }\n",
              "    90% {\n",
              "      border-color: transparent;\n",
              "      border-bottom-color: var(--fill-color);\n",
              "    }\n",
              "  }\n",
              "</style>\n",
              "\n",
              "  <script>\n",
              "    async function quickchart(key) {\n",
              "      const quickchartButtonEl =\n",
              "        document.querySelector('#' + key + ' button');\n",
              "      quickchartButtonEl.disabled = true;  // To prevent multiple clicks.\n",
              "      quickchartButtonEl.classList.add('colab-df-spinner');\n",
              "      try {\n",
              "        const charts = await google.colab.kernel.invokeFunction(\n",
              "            'suggestCharts', [key], {});\n",
              "      } catch (error) {\n",
              "        console.error('Error during call to suggestCharts:', error);\n",
              "      }\n",
              "      quickchartButtonEl.classList.remove('colab-df-spinner');\n",
              "      quickchartButtonEl.classList.add('colab-df-quickchart-complete');\n",
              "    }\n",
              "    (() => {\n",
              "      let quickchartButtonEl =\n",
              "        document.querySelector('#df-ffcfadd6-45cc-433f-b24a-55198206beb7 button');\n",
              "      quickchartButtonEl.style.display =\n",
              "        google.colab.kernel.accessAllowed ? 'block' : 'none';\n",
              "    })();\n",
              "  </script>\n",
              "</div>\n",
              "    </div>\n",
              "  </div>\n"
            ]
          },
          "metadata": {},
          "execution_count": 51
        }
      ]
    },
    {
      "cell_type": "code",
      "source": [
        "df.tail(5)"
      ],
      "metadata": {
        "colab": {
          "base_uri": "https://localhost:8080/",
          "height": 206
        },
        "id": "gRbgTuXUHDCj",
        "outputId": "47ac2885-15ec-48ad-dc92-d1a1235bd863"
      },
      "execution_count": null,
      "outputs": [
        {
          "output_type": "execute_result",
          "data": {
            "text/plain": [
              "         station_id        stationname        date daytype  rides\n",
              "1145581       41700  Washington/Wabash  12/27/2022       W   3991\n",
              "1145582       41700  Washington/Wabash  12/28/2022       W   4100\n",
              "1145583       41700  Washington/Wabash  12/29/2022       W   4741\n",
              "1145584       41700  Washington/Wabash  12/30/2022       W   4664\n",
              "1145585       41700  Washington/Wabash  12/31/2022       A   2774"
            ],
            "text/html": [
              "\n",
              "  <div id=\"df-9d27382a-dfd8-4921-8412-0b97e1cfeb46\" class=\"colab-df-container\">\n",
              "    <div>\n",
              "<style scoped>\n",
              "    .dataframe tbody tr th:only-of-type {\n",
              "        vertical-align: middle;\n",
              "    }\n",
              "\n",
              "    .dataframe tbody tr th {\n",
              "        vertical-align: top;\n",
              "    }\n",
              "\n",
              "    .dataframe thead th {\n",
              "        text-align: right;\n",
              "    }\n",
              "</style>\n",
              "<table border=\"1\" class=\"dataframe\">\n",
              "  <thead>\n",
              "    <tr style=\"text-align: right;\">\n",
              "      <th></th>\n",
              "      <th>station_id</th>\n",
              "      <th>stationname</th>\n",
              "      <th>date</th>\n",
              "      <th>daytype</th>\n",
              "      <th>rides</th>\n",
              "    </tr>\n",
              "  </thead>\n",
              "  <tbody>\n",
              "    <tr>\n",
              "      <th>1145581</th>\n",
              "      <td>41700</td>\n",
              "      <td>Washington/Wabash</td>\n",
              "      <td>12/27/2022</td>\n",
              "      <td>W</td>\n",
              "      <td>3991</td>\n",
              "    </tr>\n",
              "    <tr>\n",
              "      <th>1145582</th>\n",
              "      <td>41700</td>\n",
              "      <td>Washington/Wabash</td>\n",
              "      <td>12/28/2022</td>\n",
              "      <td>W</td>\n",
              "      <td>4100</td>\n",
              "    </tr>\n",
              "    <tr>\n",
              "      <th>1145583</th>\n",
              "      <td>41700</td>\n",
              "      <td>Washington/Wabash</td>\n",
              "      <td>12/29/2022</td>\n",
              "      <td>W</td>\n",
              "      <td>4741</td>\n",
              "    </tr>\n",
              "    <tr>\n",
              "      <th>1145584</th>\n",
              "      <td>41700</td>\n",
              "      <td>Washington/Wabash</td>\n",
              "      <td>12/30/2022</td>\n",
              "      <td>W</td>\n",
              "      <td>4664</td>\n",
              "    </tr>\n",
              "    <tr>\n",
              "      <th>1145585</th>\n",
              "      <td>41700</td>\n",
              "      <td>Washington/Wabash</td>\n",
              "      <td>12/31/2022</td>\n",
              "      <td>A</td>\n",
              "      <td>2774</td>\n",
              "    </tr>\n",
              "  </tbody>\n",
              "</table>\n",
              "</div>\n",
              "    <div class=\"colab-df-buttons\">\n",
              "\n",
              "  <div class=\"colab-df-container\">\n",
              "    <button class=\"colab-df-convert\" onclick=\"convertToInteractive('df-9d27382a-dfd8-4921-8412-0b97e1cfeb46')\"\n",
              "            title=\"Convert this dataframe to an interactive table.\"\n",
              "            style=\"display:none;\">\n",
              "\n",
              "  <svg xmlns=\"http://www.w3.org/2000/svg\" height=\"24px\" viewBox=\"0 -960 960 960\">\n",
              "    <path d=\"M120-120v-720h720v720H120Zm60-500h600v-160H180v160Zm220 220h160v-160H400v160Zm0 220h160v-160H400v160ZM180-400h160v-160H180v160Zm440 0h160v-160H620v160ZM180-180h160v-160H180v160Zm440 0h160v-160H620v160Z\"/>\n",
              "  </svg>\n",
              "    </button>\n",
              "\n",
              "  <style>\n",
              "    .colab-df-container {\n",
              "      display:flex;\n",
              "      gap: 12px;\n",
              "    }\n",
              "\n",
              "    .colab-df-convert {\n",
              "      background-color: #E8F0FE;\n",
              "      border: none;\n",
              "      border-radius: 50%;\n",
              "      cursor: pointer;\n",
              "      display: none;\n",
              "      fill: #1967D2;\n",
              "      height: 32px;\n",
              "      padding: 0 0 0 0;\n",
              "      width: 32px;\n",
              "    }\n",
              "\n",
              "    .colab-df-convert:hover {\n",
              "      background-color: #E2EBFA;\n",
              "      box-shadow: 0px 1px 2px rgba(60, 64, 67, 0.3), 0px 1px 3px 1px rgba(60, 64, 67, 0.15);\n",
              "      fill: #174EA6;\n",
              "    }\n",
              "\n",
              "    .colab-df-buttons div {\n",
              "      margin-bottom: 4px;\n",
              "    }\n",
              "\n",
              "    [theme=dark] .colab-df-convert {\n",
              "      background-color: #3B4455;\n",
              "      fill: #D2E3FC;\n",
              "    }\n",
              "\n",
              "    [theme=dark] .colab-df-convert:hover {\n",
              "      background-color: #434B5C;\n",
              "      box-shadow: 0px 1px 3px 1px rgba(0, 0, 0, 0.15);\n",
              "      filter: drop-shadow(0px 1px 2px rgba(0, 0, 0, 0.3));\n",
              "      fill: #FFFFFF;\n",
              "    }\n",
              "  </style>\n",
              "\n",
              "    <script>\n",
              "      const buttonEl =\n",
              "        document.querySelector('#df-9d27382a-dfd8-4921-8412-0b97e1cfeb46 button.colab-df-convert');\n",
              "      buttonEl.style.display =\n",
              "        google.colab.kernel.accessAllowed ? 'block' : 'none';\n",
              "\n",
              "      async function convertToInteractive(key) {\n",
              "        const element = document.querySelector('#df-9d27382a-dfd8-4921-8412-0b97e1cfeb46');\n",
              "        const dataTable =\n",
              "          await google.colab.kernel.invokeFunction('convertToInteractive',\n",
              "                                                    [key], {});\n",
              "        if (!dataTable) return;\n",
              "\n",
              "        const docLinkHtml = 'Like what you see? Visit the ' +\n",
              "          '<a target=\"_blank\" href=https://colab.research.google.com/notebooks/data_table.ipynb>data table notebook</a>'\n",
              "          + ' to learn more about interactive tables.';\n",
              "        element.innerHTML = '';\n",
              "        dataTable['output_type'] = 'display_data';\n",
              "        await google.colab.output.renderOutput(dataTable, element);\n",
              "        const docLink = document.createElement('div');\n",
              "        docLink.innerHTML = docLinkHtml;\n",
              "        element.appendChild(docLink);\n",
              "      }\n",
              "    </script>\n",
              "  </div>\n",
              "\n",
              "\n",
              "<div id=\"df-e1e637f5-9dbe-45ef-8896-2fd195e2db35\">\n",
              "  <button class=\"colab-df-quickchart\" onclick=\"quickchart('df-e1e637f5-9dbe-45ef-8896-2fd195e2db35')\"\n",
              "            title=\"Suggest charts\"\n",
              "            style=\"display:none;\">\n",
              "\n",
              "<svg xmlns=\"http://www.w3.org/2000/svg\" height=\"24px\"viewBox=\"0 0 24 24\"\n",
              "     width=\"24px\">\n",
              "    <g>\n",
              "        <path d=\"M19 3H5c-1.1 0-2 .9-2 2v14c0 1.1.9 2 2 2h14c1.1 0 2-.9 2-2V5c0-1.1-.9-2-2-2zM9 17H7v-7h2v7zm4 0h-2V7h2v10zm4 0h-2v-4h2v4z\"/>\n",
              "    </g>\n",
              "</svg>\n",
              "  </button>\n",
              "\n",
              "<style>\n",
              "  .colab-df-quickchart {\n",
              "      --bg-color: #E8F0FE;\n",
              "      --fill-color: #1967D2;\n",
              "      --hover-bg-color: #E2EBFA;\n",
              "      --hover-fill-color: #174EA6;\n",
              "      --disabled-fill-color: #AAA;\n",
              "      --disabled-bg-color: #DDD;\n",
              "  }\n",
              "\n",
              "  [theme=dark] .colab-df-quickchart {\n",
              "      --bg-color: #3B4455;\n",
              "      --fill-color: #D2E3FC;\n",
              "      --hover-bg-color: #434B5C;\n",
              "      --hover-fill-color: #FFFFFF;\n",
              "      --disabled-bg-color: #3B4455;\n",
              "      --disabled-fill-color: #666;\n",
              "  }\n",
              "\n",
              "  .colab-df-quickchart {\n",
              "    background-color: var(--bg-color);\n",
              "    border: none;\n",
              "    border-radius: 50%;\n",
              "    cursor: pointer;\n",
              "    display: none;\n",
              "    fill: var(--fill-color);\n",
              "    height: 32px;\n",
              "    padding: 0;\n",
              "    width: 32px;\n",
              "  }\n",
              "\n",
              "  .colab-df-quickchart:hover {\n",
              "    background-color: var(--hover-bg-color);\n",
              "    box-shadow: 0 1px 2px rgba(60, 64, 67, 0.3), 0 1px 3px 1px rgba(60, 64, 67, 0.15);\n",
              "    fill: var(--button-hover-fill-color);\n",
              "  }\n",
              "\n",
              "  .colab-df-quickchart-complete:disabled,\n",
              "  .colab-df-quickchart-complete:disabled:hover {\n",
              "    background-color: var(--disabled-bg-color);\n",
              "    fill: var(--disabled-fill-color);\n",
              "    box-shadow: none;\n",
              "  }\n",
              "\n",
              "  .colab-df-spinner {\n",
              "    border: 2px solid var(--fill-color);\n",
              "    border-color: transparent;\n",
              "    border-bottom-color: var(--fill-color);\n",
              "    animation:\n",
              "      spin 1s steps(1) infinite;\n",
              "  }\n",
              "\n",
              "  @keyframes spin {\n",
              "    0% {\n",
              "      border-color: transparent;\n",
              "      border-bottom-color: var(--fill-color);\n",
              "      border-left-color: var(--fill-color);\n",
              "    }\n",
              "    20% {\n",
              "      border-color: transparent;\n",
              "      border-left-color: var(--fill-color);\n",
              "      border-top-color: var(--fill-color);\n",
              "    }\n",
              "    30% {\n",
              "      border-color: transparent;\n",
              "      border-left-color: var(--fill-color);\n",
              "      border-top-color: var(--fill-color);\n",
              "      border-right-color: var(--fill-color);\n",
              "    }\n",
              "    40% {\n",
              "      border-color: transparent;\n",
              "      border-right-color: var(--fill-color);\n",
              "      border-top-color: var(--fill-color);\n",
              "    }\n",
              "    60% {\n",
              "      border-color: transparent;\n",
              "      border-right-color: var(--fill-color);\n",
              "    }\n",
              "    80% {\n",
              "      border-color: transparent;\n",
              "      border-right-color: var(--fill-color);\n",
              "      border-bottom-color: var(--fill-color);\n",
              "    }\n",
              "    90% {\n",
              "      border-color: transparent;\n",
              "      border-bottom-color: var(--fill-color);\n",
              "    }\n",
              "  }\n",
              "</style>\n",
              "\n",
              "  <script>\n",
              "    async function quickchart(key) {\n",
              "      const quickchartButtonEl =\n",
              "        document.querySelector('#' + key + ' button');\n",
              "      quickchartButtonEl.disabled = true;  // To prevent multiple clicks.\n",
              "      quickchartButtonEl.classList.add('colab-df-spinner');\n",
              "      try {\n",
              "        const charts = await google.colab.kernel.invokeFunction(\n",
              "            'suggestCharts', [key], {});\n",
              "      } catch (error) {\n",
              "        console.error('Error during call to suggestCharts:', error);\n",
              "      }\n",
              "      quickchartButtonEl.classList.remove('colab-df-spinner');\n",
              "      quickchartButtonEl.classList.add('colab-df-quickchart-complete');\n",
              "    }\n",
              "    (() => {\n",
              "      let quickchartButtonEl =\n",
              "        document.querySelector('#df-e1e637f5-9dbe-45ef-8896-2fd195e2db35 button');\n",
              "      quickchartButtonEl.style.display =\n",
              "        google.colab.kernel.accessAllowed ? 'block' : 'none';\n",
              "    })();\n",
              "  </script>\n",
              "</div>\n",
              "    </div>\n",
              "  </div>\n"
            ]
          },
          "metadata": {},
          "execution_count": 52
        }
      ]
    },
    {
      "cell_type": "code",
      "source": [
        "df.dtypes"
      ],
      "metadata": {
        "colab": {
          "base_uri": "https://localhost:8080/"
        },
        "id": "Hb9VytMCIBsT",
        "outputId": "a9f3704e-b9c5-46bc-f216-09bfe4abceee"
      },
      "execution_count": null,
      "outputs": [
        {
          "output_type": "execute_result",
          "data": {
            "text/plain": [
              "station_id      int64\n",
              "stationname    object\n",
              "date           object\n",
              "daytype        object\n",
              "rides           int64\n",
              "dtype: object"
            ]
          },
          "metadata": {},
          "execution_count": 53
        }
      ]
    },
    {
      "cell_type": "code",
      "source": [
        "type(df)"
      ],
      "metadata": {
        "colab": {
          "base_uri": "https://localhost:8080/"
        },
        "id": "OdvwAOqwIRkT",
        "outputId": "a31c4ae3-c383-46d9-86f1-869faf4f06b9"
      },
      "execution_count": null,
      "outputs": [
        {
          "output_type": "execute_result",
          "data": {
            "text/plain": [
              "pandas.core.frame.DataFrame"
            ]
          },
          "metadata": {},
          "execution_count": 54
        }
      ]
    },
    {
      "cell_type": "markdown",
      "source": [
        "What are some basic statistics about the data?"
      ],
      "metadata": {
        "id": "8GXvgw-qXm12"
      }
    },
    {
      "cell_type": "code",
      "source": [
        "# use the describe module\n",
        "# your code here\n",
        "pass\n",
        "df.describe()"
      ],
      "metadata": {
        "id": "fx7HQ71zXoK4",
        "colab": {
          "base_uri": "https://localhost:8080/",
          "height": 300
        },
        "outputId": "045f8e44-4ec2-4e03-83f6-8ce4381e6fef"
      },
      "execution_count": null,
      "outputs": [
        {
          "output_type": "execute_result",
          "data": {
            "text/plain": [
              "         station_id         rides\n",
              "count  1.145586e+06  1.145586e+06\n",
              "mean   4.076649e+04  3.056635e+03\n",
              "std    4.490665e+02  3.118576e+03\n",
              "min    4.001000e+04  0.000000e+00\n",
              "25%    4.037000e+04  9.630000e+02\n",
              "50%    4.076000e+04  2.004000e+03\n",
              "75%    4.115000e+04  4.025000e+03\n",
              "max    4.170000e+04  3.632300e+04"
            ],
            "text/html": [
              "\n",
              "  <div id=\"df-7c933fd1-8804-4cba-8d43-c62c6703ec9d\" class=\"colab-df-container\">\n",
              "    <div>\n",
              "<style scoped>\n",
              "    .dataframe tbody tr th:only-of-type {\n",
              "        vertical-align: middle;\n",
              "    }\n",
              "\n",
              "    .dataframe tbody tr th {\n",
              "        vertical-align: top;\n",
              "    }\n",
              "\n",
              "    .dataframe thead th {\n",
              "        text-align: right;\n",
              "    }\n",
              "</style>\n",
              "<table border=\"1\" class=\"dataframe\">\n",
              "  <thead>\n",
              "    <tr style=\"text-align: right;\">\n",
              "      <th></th>\n",
              "      <th>station_id</th>\n",
              "      <th>rides</th>\n",
              "    </tr>\n",
              "  </thead>\n",
              "  <tbody>\n",
              "    <tr>\n",
              "      <th>count</th>\n",
              "      <td>1.145586e+06</td>\n",
              "      <td>1.145586e+06</td>\n",
              "    </tr>\n",
              "    <tr>\n",
              "      <th>mean</th>\n",
              "      <td>4.076649e+04</td>\n",
              "      <td>3.056635e+03</td>\n",
              "    </tr>\n",
              "    <tr>\n",
              "      <th>std</th>\n",
              "      <td>4.490665e+02</td>\n",
              "      <td>3.118576e+03</td>\n",
              "    </tr>\n",
              "    <tr>\n",
              "      <th>min</th>\n",
              "      <td>4.001000e+04</td>\n",
              "      <td>0.000000e+00</td>\n",
              "    </tr>\n",
              "    <tr>\n",
              "      <th>25%</th>\n",
              "      <td>4.037000e+04</td>\n",
              "      <td>9.630000e+02</td>\n",
              "    </tr>\n",
              "    <tr>\n",
              "      <th>50%</th>\n",
              "      <td>4.076000e+04</td>\n",
              "      <td>2.004000e+03</td>\n",
              "    </tr>\n",
              "    <tr>\n",
              "      <th>75%</th>\n",
              "      <td>4.115000e+04</td>\n",
              "      <td>4.025000e+03</td>\n",
              "    </tr>\n",
              "    <tr>\n",
              "      <th>max</th>\n",
              "      <td>4.170000e+04</td>\n",
              "      <td>3.632300e+04</td>\n",
              "    </tr>\n",
              "  </tbody>\n",
              "</table>\n",
              "</div>\n",
              "    <div class=\"colab-df-buttons\">\n",
              "\n",
              "  <div class=\"colab-df-container\">\n",
              "    <button class=\"colab-df-convert\" onclick=\"convertToInteractive('df-7c933fd1-8804-4cba-8d43-c62c6703ec9d')\"\n",
              "            title=\"Convert this dataframe to an interactive table.\"\n",
              "            style=\"display:none;\">\n",
              "\n",
              "  <svg xmlns=\"http://www.w3.org/2000/svg\" height=\"24px\" viewBox=\"0 -960 960 960\">\n",
              "    <path d=\"M120-120v-720h720v720H120Zm60-500h600v-160H180v160Zm220 220h160v-160H400v160Zm0 220h160v-160H400v160ZM180-400h160v-160H180v160Zm440 0h160v-160H620v160ZM180-180h160v-160H180v160Zm440 0h160v-160H620v160Z\"/>\n",
              "  </svg>\n",
              "    </button>\n",
              "\n",
              "  <style>\n",
              "    .colab-df-container {\n",
              "      display:flex;\n",
              "      gap: 12px;\n",
              "    }\n",
              "\n",
              "    .colab-df-convert {\n",
              "      background-color: #E8F0FE;\n",
              "      border: none;\n",
              "      border-radius: 50%;\n",
              "      cursor: pointer;\n",
              "      display: none;\n",
              "      fill: #1967D2;\n",
              "      height: 32px;\n",
              "      padding: 0 0 0 0;\n",
              "      width: 32px;\n",
              "    }\n",
              "\n",
              "    .colab-df-convert:hover {\n",
              "      background-color: #E2EBFA;\n",
              "      box-shadow: 0px 1px 2px rgba(60, 64, 67, 0.3), 0px 1px 3px 1px rgba(60, 64, 67, 0.15);\n",
              "      fill: #174EA6;\n",
              "    }\n",
              "\n",
              "    .colab-df-buttons div {\n",
              "      margin-bottom: 4px;\n",
              "    }\n",
              "\n",
              "    [theme=dark] .colab-df-convert {\n",
              "      background-color: #3B4455;\n",
              "      fill: #D2E3FC;\n",
              "    }\n",
              "\n",
              "    [theme=dark] .colab-df-convert:hover {\n",
              "      background-color: #434B5C;\n",
              "      box-shadow: 0px 1px 3px 1px rgba(0, 0, 0, 0.15);\n",
              "      filter: drop-shadow(0px 1px 2px rgba(0, 0, 0, 0.3));\n",
              "      fill: #FFFFFF;\n",
              "    }\n",
              "  </style>\n",
              "\n",
              "    <script>\n",
              "      const buttonEl =\n",
              "        document.querySelector('#df-7c933fd1-8804-4cba-8d43-c62c6703ec9d button.colab-df-convert');\n",
              "      buttonEl.style.display =\n",
              "        google.colab.kernel.accessAllowed ? 'block' : 'none';\n",
              "\n",
              "      async function convertToInteractive(key) {\n",
              "        const element = document.querySelector('#df-7c933fd1-8804-4cba-8d43-c62c6703ec9d');\n",
              "        const dataTable =\n",
              "          await google.colab.kernel.invokeFunction('convertToInteractive',\n",
              "                                                    [key], {});\n",
              "        if (!dataTable) return;\n",
              "\n",
              "        const docLinkHtml = 'Like what you see? Visit the ' +\n",
              "          '<a target=\"_blank\" href=https://colab.research.google.com/notebooks/data_table.ipynb>data table notebook</a>'\n",
              "          + ' to learn more about interactive tables.';\n",
              "        element.innerHTML = '';\n",
              "        dataTable['output_type'] = 'display_data';\n",
              "        await google.colab.output.renderOutput(dataTable, element);\n",
              "        const docLink = document.createElement('div');\n",
              "        docLink.innerHTML = docLinkHtml;\n",
              "        element.appendChild(docLink);\n",
              "      }\n",
              "    </script>\n",
              "  </div>\n",
              "\n",
              "\n",
              "<div id=\"df-f4f0463a-c574-4d76-a611-8aff5f8fab57\">\n",
              "  <button class=\"colab-df-quickchart\" onclick=\"quickchart('df-f4f0463a-c574-4d76-a611-8aff5f8fab57')\"\n",
              "            title=\"Suggest charts\"\n",
              "            style=\"display:none;\">\n",
              "\n",
              "<svg xmlns=\"http://www.w3.org/2000/svg\" height=\"24px\"viewBox=\"0 0 24 24\"\n",
              "     width=\"24px\">\n",
              "    <g>\n",
              "        <path d=\"M19 3H5c-1.1 0-2 .9-2 2v14c0 1.1.9 2 2 2h14c1.1 0 2-.9 2-2V5c0-1.1-.9-2-2-2zM9 17H7v-7h2v7zm4 0h-2V7h2v10zm4 0h-2v-4h2v4z\"/>\n",
              "    </g>\n",
              "</svg>\n",
              "  </button>\n",
              "\n",
              "<style>\n",
              "  .colab-df-quickchart {\n",
              "      --bg-color: #E8F0FE;\n",
              "      --fill-color: #1967D2;\n",
              "      --hover-bg-color: #E2EBFA;\n",
              "      --hover-fill-color: #174EA6;\n",
              "      --disabled-fill-color: #AAA;\n",
              "      --disabled-bg-color: #DDD;\n",
              "  }\n",
              "\n",
              "  [theme=dark] .colab-df-quickchart {\n",
              "      --bg-color: #3B4455;\n",
              "      --fill-color: #D2E3FC;\n",
              "      --hover-bg-color: #434B5C;\n",
              "      --hover-fill-color: #FFFFFF;\n",
              "      --disabled-bg-color: #3B4455;\n",
              "      --disabled-fill-color: #666;\n",
              "  }\n",
              "\n",
              "  .colab-df-quickchart {\n",
              "    background-color: var(--bg-color);\n",
              "    border: none;\n",
              "    border-radius: 50%;\n",
              "    cursor: pointer;\n",
              "    display: none;\n",
              "    fill: var(--fill-color);\n",
              "    height: 32px;\n",
              "    padding: 0;\n",
              "    width: 32px;\n",
              "  }\n",
              "\n",
              "  .colab-df-quickchart:hover {\n",
              "    background-color: var(--hover-bg-color);\n",
              "    box-shadow: 0 1px 2px rgba(60, 64, 67, 0.3), 0 1px 3px 1px rgba(60, 64, 67, 0.15);\n",
              "    fill: var(--button-hover-fill-color);\n",
              "  }\n",
              "\n",
              "  .colab-df-quickchart-complete:disabled,\n",
              "  .colab-df-quickchart-complete:disabled:hover {\n",
              "    background-color: var(--disabled-bg-color);\n",
              "    fill: var(--disabled-fill-color);\n",
              "    box-shadow: none;\n",
              "  }\n",
              "\n",
              "  .colab-df-spinner {\n",
              "    border: 2px solid var(--fill-color);\n",
              "    border-color: transparent;\n",
              "    border-bottom-color: var(--fill-color);\n",
              "    animation:\n",
              "      spin 1s steps(1) infinite;\n",
              "  }\n",
              "\n",
              "  @keyframes spin {\n",
              "    0% {\n",
              "      border-color: transparent;\n",
              "      border-bottom-color: var(--fill-color);\n",
              "      border-left-color: var(--fill-color);\n",
              "    }\n",
              "    20% {\n",
              "      border-color: transparent;\n",
              "      border-left-color: var(--fill-color);\n",
              "      border-top-color: var(--fill-color);\n",
              "    }\n",
              "    30% {\n",
              "      border-color: transparent;\n",
              "      border-left-color: var(--fill-color);\n",
              "      border-top-color: var(--fill-color);\n",
              "      border-right-color: var(--fill-color);\n",
              "    }\n",
              "    40% {\n",
              "      border-color: transparent;\n",
              "      border-right-color: var(--fill-color);\n",
              "      border-top-color: var(--fill-color);\n",
              "    }\n",
              "    60% {\n",
              "      border-color: transparent;\n",
              "      border-right-color: var(--fill-color);\n",
              "    }\n",
              "    80% {\n",
              "      border-color: transparent;\n",
              "      border-right-color: var(--fill-color);\n",
              "      border-bottom-color: var(--fill-color);\n",
              "    }\n",
              "    90% {\n",
              "      border-color: transparent;\n",
              "      border-bottom-color: var(--fill-color);\n",
              "    }\n",
              "  }\n",
              "</style>\n",
              "\n",
              "  <script>\n",
              "    async function quickchart(key) {\n",
              "      const quickchartButtonEl =\n",
              "        document.querySelector('#' + key + ' button');\n",
              "      quickchartButtonEl.disabled = true;  // To prevent multiple clicks.\n",
              "      quickchartButtonEl.classList.add('colab-df-spinner');\n",
              "      try {\n",
              "        const charts = await google.colab.kernel.invokeFunction(\n",
              "            'suggestCharts', [key], {});\n",
              "      } catch (error) {\n",
              "        console.error('Error during call to suggestCharts:', error);\n",
              "      }\n",
              "      quickchartButtonEl.classList.remove('colab-df-spinner');\n",
              "      quickchartButtonEl.classList.add('colab-df-quickchart-complete');\n",
              "    }\n",
              "    (() => {\n",
              "      let quickchartButtonEl =\n",
              "        document.querySelector('#df-f4f0463a-c574-4d76-a611-8aff5f8fab57 button');\n",
              "      quickchartButtonEl.style.display =\n",
              "        google.colab.kernel.accessAllowed ? 'block' : 'none';\n",
              "    })();\n",
              "  </script>\n",
              "</div>\n",
              "    </div>\n",
              "  </div>\n"
            ]
          },
          "metadata": {},
          "execution_count": 55
        }
      ]
    },
    {
      "cell_type": "markdown",
      "source": [
        "Selection Based on Conditionals\n",
        "\n",
        "Let's see which stations have the most and fewest rides.\n"
      ],
      "metadata": {
        "id": "DEWjmZDlXyS0"
      }
    },
    {
      "cell_type": "code",
      "source": [
        "# use the min() and max() modules\n",
        "# your code here\n",
        "pass\n",
        "print(df['rides'].min())"
      ],
      "metadata": {
        "id": "KnSQOBTYX4Nm",
        "colab": {
          "base_uri": "https://localhost:8080/"
        },
        "outputId": "43ee5bed-9c32-4298-d556-10a8899eeb03"
      },
      "execution_count": null,
      "outputs": [
        {
          "output_type": "stream",
          "name": "stdout",
          "text": [
            "0\n"
          ]
        }
      ]
    },
    {
      "cell_type": "code",
      "source": [
        "print(df['rides'].max())"
      ],
      "metadata": {
        "colab": {
          "base_uri": "https://localhost:8080/"
        },
        "id": "gHqHoMiUJMMz",
        "outputId": "99d49e69-83a9-490f-df4d-5856ccd42616"
      },
      "execution_count": null,
      "outputs": [
        {
          "output_type": "stream",
          "name": "stdout",
          "text": [
            "36323\n"
          ]
        }
      ]
    },
    {
      "cell_type": "code",
      "source": [
        "df.columns"
      ],
      "metadata": {
        "colab": {
          "base_uri": "https://localhost:8080/"
        },
        "id": "VYz8UoPdLPX0",
        "outputId": "00d1b3e6-327f-4f9d-a42c-4be11018e5d6"
      },
      "execution_count": null,
      "outputs": [
        {
          "output_type": "execute_result",
          "data": {
            "text/plain": [
              "Index(['station_id', 'stationname', 'date', 'daytype', 'rides'], dtype='object')"
            ]
          },
          "metadata": {},
          "execution_count": 58
        }
      ]
    },
    {
      "cell_type": "code",
      "source": [
        "filter=df['rides'].max()\n",
        "print(filter)"
      ],
      "metadata": {
        "colab": {
          "base_uri": "https://localhost:8080/"
        },
        "id": "Su65sQr1KdwL",
        "outputId": "06f4aeba-3313-4e30-a328-854af1cf1bb7"
      },
      "execution_count": null,
      "outputs": [
        {
          "output_type": "stream",
          "name": "stdout",
          "text": [
            "36323\n"
          ]
        }
      ]
    },
    {
      "cell_type": "code",
      "source": [
        "filter=df['stationname'].min()\n",
        "print(filter)"
      ],
      "metadata": {
        "colab": {
          "base_uri": "https://localhost:8080/"
        },
        "id": "QpgEcXYqLNYs",
        "outputId": "08019b7b-f0d3-4b7c-8c88-e627d485a449"
      },
      "execution_count": null,
      "outputs": [
        {
          "output_type": "stream",
          "name": "stdout",
          "text": [
            "18th\n"
          ]
        }
      ]
    },
    {
      "cell_type": "markdown",
      "source": [
        "Create a Time Index\n",
        "\n",
        "So we have all rides from January 1, 2001 to December 31, 2019. Let's do some statistics that group ride statistics by date. First we need to tell Pandas that the date column is in fact a date. So, we convert the column to a proper 'DateTime' type, and then set the index to this column.\n",
        "\n",
        "This step takes a little bit of time!\n",
        "\n",
        "The following picture show the desired output\n",
        "\n",
        "![image.png](data:image/png;base64,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)"
      ],
      "metadata": {
        "id": "DocsZpVuZFSk"
      }
    },
    {
      "cell_type": "code",
      "source": [
        "# hint, use to_datetime() and set_index()  modules\n",
        "# your code here\n",
        "import pandas as pd\n",
        "\n",
        "# Convert 'date' column to datetime format\n",
        "rides['date'] = pd.to_datetime(rides['date'])\n",
        "\n",
        "# Set 'date' column as the index\n",
        "rides.set_index('date', inplace=True)\n",
        "\n",
        "# Sort the DataFrame by the index (which is now the 'date' column)\n",
        "rides.sort_index(inplace=True)"
      ],
      "metadata": {
        "id": "ikOa83dGZXwc",
        "colab": {
          "base_uri": "https://localhost:8080/",
          "height": 245
        },
        "outputId": "2b82a056-cc60-4999-8fb1-2a2b57b9d216"
      },
      "execution_count": 22,
      "outputs": [
        {
          "output_type": "error",
          "ename": "NameError",
          "evalue": "ignored",
          "traceback": [
            "\u001b[0;31m---------------------------------------------------------------------------\u001b[0m",
            "\u001b[0;31mNameError\u001b[0m                                 Traceback (most recent call last)",
            "\u001b[0;32m<ipython-input-22-5c8838110b25>\u001b[0m in \u001b[0;36m<cell line: 6>\u001b[0;34m()\u001b[0m\n\u001b[1;32m      4\u001b[0m \u001b[0;34m\u001b[0m\u001b[0m\n\u001b[1;32m      5\u001b[0m \u001b[0;31m# Convert 'date' column to datetime format\u001b[0m\u001b[0;34m\u001b[0m\u001b[0;34m\u001b[0m\u001b[0m\n\u001b[0;32m----> 6\u001b[0;31m \u001b[0mrides\u001b[0m\u001b[0;34m[\u001b[0m\u001b[0;34m'date'\u001b[0m\u001b[0;34m]\u001b[0m \u001b[0;34m=\u001b[0m \u001b[0mpd\u001b[0m\u001b[0;34m.\u001b[0m\u001b[0mto_datetime\u001b[0m\u001b[0;34m(\u001b[0m\u001b[0mrides\u001b[0m\u001b[0;34m[\u001b[0m\u001b[0;34m'date'\u001b[0m\u001b[0;34m]\u001b[0m\u001b[0;34m)\u001b[0m\u001b[0;34m\u001b[0m\u001b[0;34m\u001b[0m\u001b[0m\n\u001b[0m\u001b[1;32m      7\u001b[0m \u001b[0;34m\u001b[0m\u001b[0m\n\u001b[1;32m      8\u001b[0m \u001b[0;31m# Set 'date' column as the index\u001b[0m\u001b[0;34m\u001b[0m\u001b[0;34m\u001b[0m\u001b[0m\n",
            "\u001b[0;31mNameError\u001b[0m: name 'rides' is not defined"
          ]
        }
      ]
    },
    {
      "cell_type": "markdown",
      "source": [
        "Sort the Dataframe by Date"
      ],
      "metadata": {
        "id": "JxUkoEtIZwYd"
      }
    },
    {
      "cell_type": "code",
      "source": [
        "# hint, sort_values(by='date')\n",
        "# your code here\n",
        "\n",
        "rides.sort_values(by='date', inplace=True)\n",
        "rides.sort_values(by='date', inplace=True, ascending=False)"
      ],
      "metadata": {
        "id": "gYYPOtTsZJi6",
        "colab": {
          "base_uri": "https://localhost:8080/",
          "height": 227
        },
        "outputId": "14ab9a38-97fe-4593-c11b-6290cc85af18"
      },
      "execution_count": 23,
      "outputs": [
        {
          "output_type": "error",
          "ename": "NameError",
          "evalue": "ignored",
          "traceback": [
            "\u001b[0;31m---------------------------------------------------------------------------\u001b[0m",
            "\u001b[0;31mNameError\u001b[0m                                 Traceback (most recent call last)",
            "\u001b[0;32m<ipython-input-23-4d355845a8c9>\u001b[0m in \u001b[0;36m<cell line: 4>\u001b[0;34m()\u001b[0m\n\u001b[1;32m      2\u001b[0m \u001b[0;31m# your code here\u001b[0m\u001b[0;34m\u001b[0m\u001b[0;34m\u001b[0m\u001b[0m\n\u001b[1;32m      3\u001b[0m \u001b[0;34m\u001b[0m\u001b[0m\n\u001b[0;32m----> 4\u001b[0;31m \u001b[0mrides\u001b[0m\u001b[0;34m.\u001b[0m\u001b[0msort_values\u001b[0m\u001b[0;34m(\u001b[0m\u001b[0mby\u001b[0m\u001b[0;34m=\u001b[0m\u001b[0;34m'date'\u001b[0m\u001b[0;34m,\u001b[0m \u001b[0minplace\u001b[0m\u001b[0;34m=\u001b[0m\u001b[0;32mTrue\u001b[0m\u001b[0;34m)\u001b[0m\u001b[0;34m\u001b[0m\u001b[0;34m\u001b[0m\u001b[0m\n\u001b[0m\u001b[1;32m      5\u001b[0m \u001b[0mrides\u001b[0m\u001b[0;34m.\u001b[0m\u001b[0msort_values\u001b[0m\u001b[0;34m(\u001b[0m\u001b[0mby\u001b[0m\u001b[0;34m=\u001b[0m\u001b[0;34m'date'\u001b[0m\u001b[0;34m,\u001b[0m \u001b[0minplace\u001b[0m\u001b[0;34m=\u001b[0m\u001b[0;32mTrue\u001b[0m\u001b[0;34m,\u001b[0m \u001b[0mascending\u001b[0m\u001b[0;34m=\u001b[0m\u001b[0;32mFalse\u001b[0m\u001b[0;34m)\u001b[0m\u001b[0;34m\u001b[0m\u001b[0;34m\u001b[0m\u001b[0m\n",
            "\u001b[0;31mNameError\u001b[0m: name 'rides' is not defined"
          ]
        }
      ]
    },
    {
      "cell_type": "markdown",
      "source": [
        "Sanity Checking\n",
        "\n",
        "Looks good! Now let's have a quick look at data for specific stations:\n",
        "'Garfield-Dan Ryan' and 'Garfield-South Elevated'\n"
      ],
      "metadata": {
        "id": "m9q7WteNafwW"
      }
    },
    {
      "cell_type": "code",
      "source": [
        "# hint, use filter like, df['stationname']=='Garfield-Dan Ryan']\n",
        "# your code here\n",
        "# use the following variable name for your specific stations\n",
        "import pandas as pd\n",
        "Garfield_Dan_Ryan=pd.DataFrame()\n",
        "\n",
        "data = {'stationname': ['Garfield-Dan Ryan', 'Lake', 'Garfield-Dan Ryan', 'Jackson', 'Garfield-Dan Ryan'],\n",
        "        'other_column': [1, 2, 3, 4, 5]}\n",
        "df = pd.DataFrame(data)\n",
        "Garfield_Dan_Ryan = df[df['stationname'] == 'Garfield-Dan Ryan']\n",
        "\n",
        "# Print the resulting DataFrame\n",
        "print(Garfield_Dan_Ryan)"
      ],
      "metadata": {
        "id": "gGfkW-TVax-7",
        "colab": {
          "base_uri": "https://localhost:8080/"
        },
        "outputId": "2c8da8b3-14a1-41d1-e739-b4310b25dc51"
      },
      "execution_count": 9,
      "outputs": [
        {
          "output_type": "stream",
          "name": "stdout",
          "text": [
            "         stationname  other_column\n",
            "0  Garfield-Dan Ryan             1\n",
            "2  Garfield-Dan Ryan             3\n",
            "4  Garfield-Dan Ryan             5\n"
          ]
        }
      ]
    },
    {
      "cell_type": "code",
      "source": [
        "# hint, use filter like this df['stationname']=='Garfield-South Elevated']\n",
        "# your code here\n",
        "# use the following variable name for your specific stations\n",
        "Garfield_South_Elevated=pd.DataFrame()\n",
        "Garfield_South_Elevated = df[df['stationname'] == 'Garfield-South Elevated']\n",
        "\n",
        "# Print the resulting DataFrame\n",
        "print(Garfield_South_Elevated)"
      ],
      "metadata": {
        "id": "RgE7UR2ybWO2",
        "colab": {
          "base_uri": "https://localhost:8080/"
        },
        "outputId": "a3d359db-33bf-4638-ab7f-6a6d3b843260"
      },
      "execution_count": 8,
      "outputs": [
        {
          "output_type": "stream",
          "name": "stdout",
          "text": [
            "Empty DataFrame\n",
            "Columns: [stationname, other_column]\n",
            "Index: []\n"
          ]
        }
      ]
    },
    {
      "cell_type": "markdown",
      "source": [
        "Visualizing Timeseries Data"
      ],
      "metadata": {
        "id": "WbUuQ_Gobat1"
      }
    },
    {
      "cell_type": "code",
      "source": [
        "import matplotlib.pyplot as plt\n",
        "import seaborn as sns\n",
        "\n",
        "sns.set(rc={'figure.figsize':(11, 4)})\n",
        "sns.countplot(data=Garfield_Dan_Ryan, x='stationname', linewidth=0.5)\n",
        "\n",
        "# Show the plot\n",
        "plt.show()\n",
        "plt.xticks(rotation=45, ha='right')"
      ],
      "metadata": {
        "id": "t_AuTm1KbeEk",
        "colab": {
          "base_uri": "https://localhost:8080/",
          "height": 891
        },
        "outputId": "1b609bec-5964-4bd8-d300-bb39dc78b4b8"
      },
      "execution_count": 16,
      "outputs": [
        {
          "output_type": "display_data",
          "data": {
            "text/plain": [
              "<Figure size 1100x400 with 1 Axes>"
            ],
            "image/png": "[encoded data removed]"
          },
          "metadata": {}
        },
        {
          "output_type": "execute_result",
          "data": {
            "text/plain": [
              "(array([0. , 0.2, 0.4, 0.6, 0.8, 1. ]),\n",
              " [Text(0.0, 0, '0.0'),\n",
              "  Text(0.2, 0, '0.2'),\n",
              "  Text(0.4, 0, '0.4'),\n",
              "  Text(0.6000000000000001, 0, '0.6'),\n",
              "  Text(0.8, 0, '0.8'),\n",
              "  Text(1.0, 0, '1.0')])"
            ]
          },
          "metadata": {},
          "execution_count": 16
        },
        {
          "output_type": "display_data",
          "data": {
            "text/plain": [
              "<Figure size 1100x400 with 1 Axes>"
            ],
            "image/png": "[encoded data removed]"
          },
          "metadata": {}
        }
      ]
    },
    {
      "cell_type": "code",
      "source": [
        "sns.set(rc={'figure.figsize':(11, 4)})\n",
        "# Garfield_South_Elevated['rides'].plot(linewidth=0.5)\n",
        "\n",
        "if 'rides' in Garfield_South_Elevated.columns:\n",
        "    # Check if the 'rides' column contains numeric data\n",
        "    if pd.api.types.is_numeric_dtype(Garfield_South_Elevated['rides']):\n",
        "        # Plot the 'rides' column\n",
        "        Garfield_South_Elevated['rides'].plot(linewidth=0.5)\n",
        "\n",
        "        # Show the plot\n",
        "        plt.show()\n",
        "    else:\n",
        "        print(\"'rides' column is not numeric.\")\n",
        "else:\n",
        "    print(\"'rides' column does not exist in the DataFrame.\")"
      ],
      "metadata": {
        "id": "B0SPCn0ebvhF",
        "colab": {
          "base_uri": "https://localhost:8080/"
        },
        "outputId": "7ad9de44-9bfc-4547-9782-d96a0fdf7950"
      },
      "execution_count": 13,
      "outputs": [
        {
          "output_type": "stream",
          "name": "stdout",
          "text": [
            "'rides' column does not exist in the DataFrame.\n"
          ]
        }
      ]
    }
  ]
}