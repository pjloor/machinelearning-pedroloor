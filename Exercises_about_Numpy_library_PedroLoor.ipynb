{
  "nbformat": 4,
  "nbformat_minor": 0,
  "metadata": {
    "colab": {
      "provenance": [],
      "authorship_tag": "ABX9TyNAKtu//okcuOzlTSWiArq0",
      "include_colab_link": true
    },
    "kernelspec": {
      "name": "python3",
      "display_name": "Python 3"
    },
    "language_info": {
      "name": "python"
    }
  },
  "cells": [
    {
      "cell_type": "markdown",
      "metadata": {
        "id": "view-in-github",
        "colab_type": "text"
      },
      "source": [
        "<a href=\"https://colab.research.google.com/github/pjloor/machinelearning-pedroloor/blob/main/Exercises_about_Numpy_library_PedroLoor.ipynb\" target=\"_parent\"><img src=\"https://colab.research.google.com/assets/colab-badge.svg\" alt=\"Open In Colab\"/></a>"
      ]
    },
    {
      "cell_type": "markdown",
      "source": [
        "**PRIMERA PARTE**"
      ],
      "metadata": {
        "id": "EwmwGDoX2VrX"
      }
    },
    {
      "cell_type": "code",
      "execution_count": 14,
      "metadata": {
        "colab": {
          "base_uri": "https://localhost:8080/"
        },
        "id": "EPuTeJzy1YYu",
        "outputId": "7dfc4e62-9705-4cc7-f28f-285371ca663a"
      },
      "outputs": [
        {
          "output_type": "stream",
          "name": "stdout",
          "text": [
            "[1 2 4]\n",
            "-----------\n",
            "(3,)\n",
            "(2, 3)\n",
            "[[1 2 4]\n",
            " [1 2 4]]\n",
            "-----------\n",
            "<class 'numpy.ndarray'>\n",
            "-----------\n",
            "[[0. 0. 0. 0.]\n",
            " [0. 0. 0. 0.]\n",
            " [0. 0. 0. 0.]\n",
            " [0. 0. 0. 0.]]\n",
            "-----------\n",
            "[[5 5 5 5]\n",
            " [5 5 5 5]\n",
            " [5 5 5 5]\n",
            " [5 5 5 5]]\n",
            "-----------\n",
            "[[1. 0. 0. 0.]\n",
            " [0. 1. 0. 0.]\n",
            " [0. 0. 1. 0.]\n",
            " [0. 0. 0. 1.]]\n",
            "-----------\n",
            "[[1. 1. 1. 1.]\n",
            " [1. 1. 1. 1.]\n",
            " [1. 1. 1. 1.]\n",
            " [1. 1. 1. 1.]]\n",
            "(4, 4)\n"
          ]
        }
      ],
      "source": [
        "import numpy as np\n",
        "\n",
        "aux=np.array([1,2,4])\n",
        "print(aux)\n",
        "print('-----------')\n",
        "# Shape no ayuda a sabes las dimención o froma de la matriz\n",
        "print(aux.shape)\n",
        "\n",
        "aux=np.array([[1,2,4],[1,2,4]])\n",
        "print(aux.shape)\n",
        "print(aux)\n",
        "print('-----------')\n",
        "print(type(aux))\n",
        "\n",
        "# los crea matrices con únicamente 0\n",
        "x=np.zeros((4,4))\n",
        "print('-----------')\n",
        "print(x)\n",
        "\n",
        "#full crea matrices con un valor constante en este caso 5\n",
        "x=np.full((4,4),5)\n",
        "print('-----------')\n",
        "print(x)\n",
        "\n",
        "# eyer crea una matriz de identificación ya que completa la matriz con 0 y en la parte principal lo completa con 1\n",
        "x=np.eye(4,4)\n",
        "print('-----------')\n",
        "print(x)\n",
        "\n",
        "# Ones se utiliza para crear un array (o matriz) de una forma específica, llena de unos\n",
        "x=np.ones((4,4))\n",
        "print('-----------')\n",
        "print(x)\n",
        "\n",
        "print(x.shape)"
      ]
    },
    {
      "cell_type": "code",
      "source": [
        "# ramdom.random se utiliza para generar un número decimal aleatorio en el rango que es esta caso es de (3,3)\n",
        "x=10*np.random.random((3,3))\n",
        "print(x)"
      ],
      "metadata": {
        "colab": {
          "base_uri": "https://localhost:8080/"
        },
        "id": "cMZgGdsi1oSl",
        "outputId": "4ab852a2-b521-4722-e79f-77a449161104"
      },
      "execution_count": 15,
      "outputs": [
        {
          "output_type": "stream",
          "name": "stdout",
          "text": [
            "[[4.13017433 4.75015538 0.99227126]\n",
            " [4.99411136 8.34369523 5.45913279]\n",
            " [2.24338153 7.09628873 2.00013803]]\n"
          ]
        }
      ]
    },
    {
      "cell_type": "code",
      "source": [
        "print(x[:2,:2])"
      ],
      "metadata": {
        "colab": {
          "base_uri": "https://localhost:8080/"
        },
        "id": "Npcv3QnQ1rJV",
        "outputId": "f11c58ed-861e-4bd7-f738-553d3f7afa9d"
      },
      "execution_count": 16,
      "outputs": [
        {
          "output_type": "stream",
          "name": "stdout",
          "text": [
            "[[4.13017433 4.75015538]\n",
            " [4.99411136 8.34369523]]\n"
          ]
        }
      ]
    },
    {
      "cell_type": "code",
      "source": [
        "print(x[:2,1:3])"
      ],
      "metadata": {
        "colab": {
          "base_uri": "https://localhost:8080/"
        },
        "id": "hwpKjFon1s5l",
        "outputId": "251ac9e7-871a-4185-f184-cc27f89582d7"
      },
      "execution_count": 17,
      "outputs": [
        {
          "output_type": "stream",
          "name": "stdout",
          "text": [
            "[[4.75015538 0.99227126]\n",
            " [8.34369523 5.45913279]]\n"
          ]
        }
      ]
    },
    {
      "cell_type": "code",
      "source": [
        "print(x[1,1])"
      ],
      "metadata": {
        "colab": {
          "base_uri": "https://localhost:8080/"
        },
        "id": "qJeiOaY-1vWt",
        "outputId": "a9133c0a-703b-429e-f32b-a3bf3751df42"
      },
      "execution_count": 18,
      "outputs": [
        {
          "output_type": "stream",
          "name": "stdout",
          "text": [
            "8.343695228635795\n"
          ]
        }
      ]
    },
    {
      "cell_type": "code",
      "source": [
        "print(x[2,2])"
      ],
      "metadata": {
        "colab": {
          "base_uri": "https://localhost:8080/"
        },
        "id": "6fYVLyLV1z5n",
        "outputId": "5dec949f-b440-4678-d4ef-6d1d9c340994"
      },
      "execution_count": 19,
      "outputs": [
        {
          "output_type": "stream",
          "name": "stdout",
          "text": [
            "2.0001380301758322\n"
          ]
        }
      ]
    },
    {
      "cell_type": "code",
      "source": [
        "# ramdom.random se utiliza para generar un número decimal aleatorio en el rango que es esta caso es de (3,3)\n",
        "x=10*np.random.random((3,3))\n",
        "print(x)"
      ],
      "metadata": {
        "colab": {
          "base_uri": "https://localhost:8080/"
        },
        "id": "no_XdS-e11vs",
        "outputId": "6ec735fb-c3da-4aac-aad5-092d77073001"
      },
      "execution_count": 20,
      "outputs": [
        {
          "output_type": "stream",
          "name": "stdout",
          "text": [
            "[[2.50436726 5.74599595 2.93131979]\n",
            " [1.01266886 3.20700095 4.62037053]\n",
            " [5.10859929 2.66059819 0.12279166]]\n"
          ]
        }
      ]
    },
    {
      "cell_type": "code",
      "source": [
        "# mask se puede utilizar con arrays o matrices para realizar operaciones condicionales.\n",
        "mask=x>5\n",
        "print(x[mask])"
      ],
      "metadata": {
        "colab": {
          "base_uri": "https://localhost:8080/"
        },
        "id": "yTOBD6Xu13m0",
        "outputId": "975abec9-7b2f-40cf-a604-01ee72ffe534"
      },
      "execution_count": 21,
      "outputs": [
        {
          "output_type": "stream",
          "name": "stdout",
          "text": [
            "[5.74599595 5.10859929]\n"
          ]
        }
      ]
    },
    {
      "cell_type": "code",
      "source": [
        "#filter es una función incorporada que se utiliza para filtrar elementos de una secuencia entre un rango\n",
        "filter=(x>=2)&(x<=4)\n",
        "print(x[filter])"
      ],
      "metadata": {
        "colab": {
          "base_uri": "https://localhost:8080/"
        },
        "id": "WyM8j9J-15EV",
        "outputId": "6b0f296f-23ff-4252-9c29-e54878737e38"
      },
      "execution_count": 22,
      "outputs": [
        {
          "output_type": "stream",
          "name": "stdout",
          "text": [
            "[2.50436726 2.93131979 3.20700095 2.66059819]\n"
          ]
        }
      ]
    },
    {
      "cell_type": "code",
      "source": [
        "#filter es una función incorporada que se utiliza para filtrar elementos de una secuencia entre un rango\n",
        "filter=(x>=2)&(x<=4)\n",
        "print(x[filter])"
      ],
      "metadata": {
        "colab": {
          "base_uri": "https://localhost:8080/"
        },
        "id": "PuoFRkbA161U",
        "outputId": "ab75f3e0-8b66-4fb6-a50f-8164730e977a"
      },
      "execution_count": 23,
      "outputs": [
        {
          "output_type": "stream",
          "name": "stdout",
          "text": [
            "[2.50436726 2.93131979 3.20700095 2.66059819]\n"
          ]
        }
      ]
    },
    {
      "cell_type": "code",
      "source": [
        "# ramdom.randint se utiliza para generar un número enteros aleatorio en el rango que es esta caso es de (0,5)\n",
        "integer_array=np.random.randint(0,5,(4,4))\n",
        "print(integer_array)"
      ],
      "metadata": {
        "colab": {
          "base_uri": "https://localhost:8080/"
        },
        "id": "cMqlMMHc18hM",
        "outputId": "c13cc09f-45f5-4d1c-edcc-c21cafe5f324"
      },
      "execution_count": 24,
      "outputs": [
        {
          "output_type": "stream",
          "name": "stdout",
          "text": [
            "[[0 0 1 1]\n",
            " [2 4 4 3]\n",
            " [4 1 2 1]\n",
            " [3 0 1 0]]\n"
          ]
        }
      ]
    },
    {
      "cell_type": "markdown",
      "source": [
        "**SEGUNDA PARTE**\n",
        "\n"
      ],
      "metadata": {
        "id": "LY58JBBP2IHn"
      }
    },
    {
      "cell_type": "code",
      "source": [
        "import numpy as np\n",
        "# ramdom.randint se utiliza para generar un número enteros aleatorio en el rango que es esta caso es de (0,10)\n",
        "a=np.random.randint(0,10,(3,4))\n",
        "\n",
        "b=np.random.randint(0,10,(3,4))\n",
        "print(\"MATRIZ A\")\n",
        "# se imprime la matriz A\n",
        "print(a)\n",
        "print(\"MATRIZ B\")\n",
        "# se imprime la matriz b\n",
        "print(b)\n",
        "print(\"SUMANDO\")\n",
        "# se imprime una matriz sumando la matriz a+b\n",
        "print(a+b)\n",
        "print(\"RESTANDO\")\n",
        "# se imprime una matriz restando la matriz a-b\n",
        "print(a-b)\n",
        "print(\"MULTIPLICANDO\")\n",
        "# se imprime una matriz multiplicando la matriz a*b\n",
        "print(a*b)\n",
        "print(\"___________\")\n",
        "\n",
        "# add se utiliza para realizar la suma de dos arrays o matrices de elemento por elemento.\n",
        "print(np.add(a,b))\n",
        "print(\"___________\")\n",
        "\n",
        "# multiply se utiliza para realizar la multiplicaciones de dos arrays o matrices de elemento por elemento.\n",
        "print(np.multiply(a,b))\n",
        "print(\"___________\")\n",
        "\n",
        "# divide se utiliza para realizar la divisiones de dos arrays o matrices de elemento por elemento.\n",
        "print(np.divide(a,b))\n",
        "print(\"___________\")\n"
      ],
      "metadata": {
        "colab": {
          "base_uri": "https://localhost:8080/"
        },
        "id": "GsAzn5kV2FrW",
        "outputId": "ee31a75c-dddf-4946-884c-b4304472fad2"
      },
      "execution_count": 25,
      "outputs": [
        {
          "output_type": "stream",
          "name": "stdout",
          "text": [
            "MATRIZ A\n",
            "[[2 4 3 6]\n",
            " [2 2 0 6]\n",
            " [1 4 4 2]]\n",
            "MATRIZ B\n",
            "[[6 9 3 1]\n",
            " [0 5 0 3]\n",
            " [1 1 9 3]]\n",
            "SUMANDO\n",
            "[[ 8 13  6  7]\n",
            " [ 2  7  0  9]\n",
            " [ 2  5 13  5]]\n",
            "RESTANDO\n",
            "[[-4 -5  0  5]\n",
            " [ 2 -3  0  3]\n",
            " [ 0  3 -5 -1]]\n",
            "MULTIPLICANDO\n",
            "[[12 36  9  6]\n",
            " [ 0 10  0 18]\n",
            " [ 1  4 36  6]]\n",
            "___________\n",
            "[[ 8 13  6  7]\n",
            " [ 2  7  0  9]\n",
            " [ 2  5 13  5]]\n",
            "___________\n",
            "[[12 36  9  6]\n",
            " [ 0 10  0 18]\n",
            " [ 1  4 36  6]]\n",
            "___________\n",
            "[[0.33333333 0.44444444 1.         6.        ]\n",
            " [       inf 0.4               nan 2.        ]\n",
            " [1.         4.         0.44444444 0.66666667]]\n",
            "___________\n"
          ]
        },
        {
          "output_type": "stream",
          "name": "stderr",
          "text": [
            "<ipython-input-25-05e0c2dd3210>:32: RuntimeWarning: divide by zero encountered in divide\n",
            "  print(np.divide(a,b))\n",
            "<ipython-input-25-05e0c2dd3210>:32: RuntimeWarning: invalid value encountered in divide\n",
            "  print(np.divide(a,b))\n"
          ]
        }
      ]
    },
    {
      "cell_type": "code",
      "source": [
        "# ramdom.randint se utiliza para generar un número enteros aleatorio en el rango que es esta caso es de (0,10)\n",
        "a=np.random.randint(0,10,(2,3))\n",
        "\n",
        "b=np.random.randint(0,10,(3,4))\n",
        "print(\"MATRIZ A\")\n",
        "print(a)\n",
        "print(\"MATRIZ B\")\n",
        "print(b)\n",
        "print(\"___________\")\n",
        "\n",
        "# dot son multiplica las matrices\n",
        "print(np.dot(a,b))"
      ],
      "metadata": {
        "colab": {
          "base_uri": "https://localhost:8080/"
        },
        "id": "ynRTzvoj2d4V",
        "outputId": "1f4ea6e2-33d2-43ac-88d0-d0bc37425fa5"
      },
      "execution_count": 26,
      "outputs": [
        {
          "output_type": "stream",
          "name": "stdout",
          "text": [
            "MATRIZ A\n",
            "[[0 4 4]\n",
            " [3 6 5]]\n",
            "MATRIZ B\n",
            "[[6 5 5 6]\n",
            " [8 7 4 1]\n",
            " [2 9 6 6]]\n",
            "___________\n",
            "[[ 40  64  40  28]\n",
            " [ 76 102  69  54]]\n"
          ]
        }
      ]
    },
    {
      "cell_type": "code",
      "source": [
        "a=np.random.randint(0,10,(3,3))\n",
        "print(a)\n",
        "print(\"___________\")\n",
        "# a.T intercambia las filas por columnas\n",
        "print(a.T)"
      ],
      "metadata": {
        "colab": {
          "base_uri": "https://localhost:8080/"
        },
        "id": "AOmoOa5B2hrd",
        "outputId": "e47c38e6-9133-42d7-90c5-c11fb78e3eb7"
      },
      "execution_count": 27,
      "outputs": [
        {
          "output_type": "stream",
          "name": "stdout",
          "text": [
            "[[1 5 7]\n",
            " [7 4 6]\n",
            " [2 0 9]]\n",
            "___________\n",
            "[[1 7 2]\n",
            " [5 4 0]\n",
            " [7 6 9]]\n"
          ]
        }
      ]
    },
    {
      "cell_type": "code",
      "source": [
        "a=np.random.randint(0,10,(4,3))\n",
        "print(a)\n",
        "print(\"___________\")\n",
        "\n",
        "b=np.array([1,0,2])\n",
        "print(b)\n",
        "print(\"___________\")\n",
        "\n",
        "# se crea una nueva matriz  utilizando la matriz A y B\n",
        "c=np.empty_like(a)\n",
        "print(c)\n",
        "print(\"___________\")\n",
        "x=a+b\n",
        "\n",
        "print(np.empty_like(x))"
      ],
      "metadata": {
        "colab": {
          "base_uri": "https://localhost:8080/"
        },
        "id": "XWGxRYvZ2j_K",
        "outputId": "3616a18a-51c6-484e-b1b6-98f4c6545173"
      },
      "execution_count": 28,
      "outputs": [
        {
          "output_type": "stream",
          "name": "stdout",
          "text": [
            "[[5 5 5]\n",
            " [9 1 3]\n",
            " [9 4 7]\n",
            " [9 3 8]]\n",
            "___________\n",
            "[1 0 2]\n",
            "___________\n",
            "[[6 5 5]\n",
            " [6 8 7]\n",
            " [4 1 2]\n",
            " [9 6 6]]\n",
            "___________\n",
            "[[98980193123176              0              2]\n",
            " [             1              0              2]\n",
            " [             1              0              2]\n",
            " [             1              0              2]]\n"
          ]
        }
      ]
    },
    {
      "cell_type": "code",
      "source": [
        "# FOR se utiliza para realizar un blucle y tiene un rango\n",
        "for i in range(4):\n",
        "  c[i,:]=a[i,:]+b\n",
        "\n",
        "print(a)\n",
        "print(\"___________\")\n",
        "\n",
        "\n",
        "print(b)\n",
        "print(\"___________\")\n",
        "\n",
        "\n",
        "print(c)\n",
        "print(\"___________\")"
      ],
      "metadata": {
        "colab": {
          "base_uri": "https://localhost:8080/"
        },
        "id": "Ej_wWHTV2lzC",
        "outputId": "42d35ae2-6d90-41ef-b23a-98b15b55ba92"
      },
      "execution_count": 29,
      "outputs": [
        {
          "output_type": "stream",
          "name": "stdout",
          "text": [
            "[[5 5 5]\n",
            " [9 1 3]\n",
            " [9 4 7]\n",
            " [9 3 8]]\n",
            "___________\n",
            "[1 0 2]\n",
            "___________\n",
            "[[ 6  5  7]\n",
            " [10  1  5]\n",
            " [10  4  9]\n",
            " [10  3 10]]\n",
            "___________\n"
          ]
        }
      ]
    },
    {
      "cell_type": "code",
      "source": [
        "b=np.array([1,2,3])\n",
        "print(b)\n",
        "print(\"___________\")\n",
        "\n",
        "# tile se utiliza para replicar la matrices en esta caso se replica la matriz B pero con un rango de 6 veces\n",
        "x=np.tile(b,(6,1))\n",
        "print(x)"
      ],
      "metadata": {
        "colab": {
          "base_uri": "https://localhost:8080/"
        },
        "id": "_wMmF6C22nla",
        "outputId": "12b29062-19ba-4d34-9217-6c2d7f38b76d"
      },
      "execution_count": 30,
      "outputs": [
        {
          "output_type": "stream",
          "name": "stdout",
          "text": [
            "[1 2 3]\n",
            "___________\n",
            "[[1 2 3]\n",
            " [1 2 3]\n",
            " [1 2 3]\n",
            " [1 2 3]\n",
            " [1 2 3]\n",
            " [1 2 3]]\n"
          ]
        }
      ]
    },
    {
      "cell_type": "code",
      "source": [
        "a=np.random.randint(20,31,(6,6))\n",
        "print(a)\n",
        "print(\"___________\")\n",
        "\n",
        "print(\"PROMEDIOS COMPLETOS\")\n",
        "# Mean se utiliza para crear el promedio de la matriz\n",
        "aux1=np.mean(a)\n",
        "print(aux1)\n",
        "\n",
        "print(\"___________\")\n",
        "print(\"PROMEDIOS POR FILAS\")\n",
        "# Mean se utiliza para crear el promedio de la matriz pero ahora por fila en este caso la fila 1\n",
        "aux2=np.mean(a,axis=1)\n",
        "print(aux2)"
      ],
      "metadata": {
        "colab": {
          "base_uri": "https://localhost:8080/"
        },
        "id": "3dH7m7d12pd5",
        "outputId": "4f1a42ce-114f-482d-8ddb-cb6485212673"
      },
      "execution_count": 31,
      "outputs": [
        {
          "output_type": "stream",
          "name": "stdout",
          "text": [
            "[[20 29 27 27 29 27]\n",
            " [23 26 25 29 21 25]\n",
            " [25 26 20 29 25 27]\n",
            " [29 20 23 30 30 26]\n",
            " [21 26 22 30 29 26]\n",
            " [21 28 24 20 26 27]]\n",
            "___________\n",
            "PROMEDIOS COMPLETOS\n",
            "25.5\n",
            "___________\n",
            "PROMEDIOS POR FILAS\n",
            "[26.5        24.83333333 25.33333333 26.33333333 25.66666667 24.33333333]\n"
          ]
        }
      ]
    }
  ]
}